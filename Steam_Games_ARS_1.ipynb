{
 "cells": [
  {
   "cell_type": "code",
   "execution_count": 0,
   "metadata": {
    "application/vnd.databricks.v1+cell": {
     "cellMetadata": {
      "byteLimit": 2048000,
      "rowLimit": 10000
     },
     "inputWidgets": {},
     "nuid": "fbc44f9d-9e5d-4556-a0da-e26e00f200b8",
     "showTitle": false,
     "title": ""
    }
   },
   "outputs": [
    {
     "output_type": "execute_result",
     "data": {
      "text/plain": [
       "[FileInfo(path='dbfs:/FileStore/tables/Occupancy_Detection_Data.csv', name='Occupancy_Detection_Data.csv', size=50968, modificationTime=1709150392000),\n",
       " FileInfo(path='dbfs:/FileStore/tables/account-models/', name='account-models/', size=0, modificationTime=0),\n",
       " FileInfo(path='dbfs:/FileStore/tables/account-models_1/', name='account-models_1/', size=0, modificationTime=0),\n",
       " FileInfo(path='dbfs:/FileStore/tables/accounts/', name='accounts/', size=0, modificationTime=0),\n",
       " FileInfo(path='dbfs:/FileStore/tables/accounts.zip', name='accounts.zip', size=5297592, modificationTime=1706721085000),\n",
       " FileInfo(path='dbfs:/FileStore/tables/activations/', name='activations/', size=0, modificationTime=0),\n",
       " FileInfo(path='dbfs:/FileStore/tables/activations-1.zip', name='activations-1.zip', size=8411369, modificationTime=1707257309000),\n",
       " FileInfo(path='dbfs:/FileStore/tables/activations.zip', name='activations.zip', size=8411369, modificationTime=1706718502000),\n",
       " FileInfo(path='dbfs:/FileStore/tables/clinicaltrial_2020.csv', name='clinicaltrial_2020.csv', size=46318151, modificationTime=1714660353000),\n",
       " FileInfo(path='dbfs:/FileStore/tables/clinicaltrial_2020.zip', name='clinicaltrial_2020.zip', size=10599182, modificationTime=1712929639000),\n",
       " FileInfo(path='dbfs:/FileStore/tables/clinicaltrial_2021.csv', name='clinicaltrial_2021.csv', size=50359696, modificationTime=1714660357000),\n",
       " FileInfo(path='dbfs:/FileStore/tables/clinicaltrial_2021.zip', name='clinicaltrial_2021.zip', size=11508457, modificationTime=1712929639000),\n",
       " FileInfo(path='dbfs:/FileStore/tables/clinicaltrial_2023.csv', name='clinicaltrial_2023.csv', size=292436366, modificationTime=1714660377000),\n",
       " FileInfo(path='dbfs:/FileStore/tables/clinicaltrial_2023.zip', name='clinicaltrial_2023.zip', size=57166668, modificationTime=1712929671000),\n",
       " FileInfo(path='dbfs:/FileStore/tables/flood.csv', name='flood.csv', size=128984, modificationTime=1707935514000),\n",
       " FileInfo(path='dbfs:/FileStore/tables/games-1.csv', name='games-1.csv', size=143639, modificationTime=1714308422000),\n",
       " FileInfo(path='dbfs:/FileStore/tables/games.csv', name='games.csv', size=143639, modificationTime=1712594410000),\n",
       " FileInfo(path='dbfs:/FileStore/tables/games__1_.csv', name='games__1_.csv', size=143639, modificationTime=1712592301000),\n",
       " FileInfo(path='dbfs:/FileStore/tables/logs/', name='logs/', size=0, modificationTime=0),\n",
       " FileInfo(path='dbfs:/FileStore/tables/logs.zip', name='logs.zip', size=18168065, modificationTime=1706721058000),\n",
       " FileInfo(path='dbfs:/FileStore/tables/movies.csv', name='movies.csv', size=494431, modificationTime=1709743625000),\n",
       " FileInfo(path='dbfs:/FileStore/tables/myratings_1_.csv', name='myratings_1_.csv', size=10683, modificationTime=1709743625000),\n",
       " FileInfo(path='dbfs:/FileStore/tables/pharma.csv', name='pharma.csv', size=678999, modificationTime=1714660386000),\n",
       " FileInfo(path='dbfs:/FileStore/tables/pharma.zip', name='pharma.zip', size=109982, modificationTime=1712929695000),\n",
       " FileInfo(path='dbfs:/FileStore/tables/ratings.csv', name='ratings.csv', size=2483723, modificationTime=1709743593000),\n",
       " FileInfo(path='dbfs:/FileStore/tables/steam_200k.csv', name='steam_200k.csv', size=8059447, modificationTime=1714306157000),\n",
       " FileInfo(path='dbfs:/FileStore/tables/test.json', name='test.json', size=17958, modificationTime=1706103273000),\n",
       " FileInfo(path='dbfs:/FileStore/tables/webpage/', name='webpage/', size=0, modificationTime=0),\n",
       " FileInfo(path='dbfs:/FileStore/tables/webpage.zip', name='webpage.zip', size=1582, modificationTime=1707312674000),\n",
       " FileInfo(path='dbfs:/FileStore/tables/webpage__1_.zip', name='webpage__1_.zip', size=1582, modificationTime=1707428699000)]"
      ]
     },
     "execution_count": 42,
     "metadata": {},
     "output_type": "execute_result"
    }
   ],
   "source": [
    "dbutils.fs.ls('FileStore/tables/')"
   ]
  },
  {
   "cell_type": "code",
   "execution_count": 0,
   "metadata": {
    "application/vnd.databricks.v1+cell": {
     "cellMetadata": {
      "byteLimit": 2048000,
      "rowLimit": 10000
     },
     "inputWidgets": {},
     "nuid": "e1eaa06b-44a1-4bbb-ba49-3d01ea345677",
     "showTitle": false,
     "title": ""
    }
   },
   "outputs": [
    {
     "output_type": "execute_result",
     "data": {
      "text/plain": [
       "[FileInfo(path='dbfs:/FileStore/tables/steam_200k.csv', name='steam_200k.csv', size=8059447, modificationTime=1714306157000)]"
      ]
     },
     "execution_count": 43,
     "metadata": {},
     "output_type": "execute_result"
    }
   ],
   "source": [
    "dbutils.fs.ls('FileStore/tables/steam_200k.csv')\n"
   ]
  },
  {
   "cell_type": "code",
   "execution_count": 0,
   "metadata": {
    "application/vnd.databricks.v1+cell": {
     "cellMetadata": {
      "byteLimit": 2048000,
      "rowLimit": 10000
     },
     "inputWidgets": {},
     "nuid": "eaf581df-343b-46e1-b4ed-08a78fe2b34e",
     "showTitle": false,
     "title": ""
    }
   },
   "outputs": [
    {
     "output_type": "execute_result",
     "data": {
      "text/plain": [
       "[FileInfo(path='dbfs:/FileStore/tables/games.csv', name='games.csv', size=143639, modificationTime=1712594410000)]"
      ]
     },
     "execution_count": 44,
     "metadata": {},
     "output_type": "execute_result"
    }
   ],
   "source": [
    "dbutils.fs.ls('FileStore/tables/games.csv')\n"
   ]
  },
  {
   "cell_type": "markdown",
   "metadata": {
    "application/vnd.databricks.v1+cell": {
     "cellMetadata": {
      "byteLimit": 2048000,
      "rowLimit": 10000
     },
     "inputWidgets": {},
     "nuid": "7f51ea3a-247b-4730-9a05-37efe6c21843",
     "showTitle": false,
     "title": ""
    }
   },
   "source": [
    "Loading Necessary Libraries"
   ]
  },
  {
   "cell_type": "code",
   "execution_count": 0,
   "metadata": {
    "application/vnd.databricks.v1+cell": {
     "cellMetadata": {
      "byteLimit": 2048000,
      "rowLimit": 10000
     },
     "inputWidgets": {},
     "nuid": "5493f39b-08e6-48f9-ad9b-c8eaccef723c",
     "showTitle": false,
     "title": ""
    }
   },
   "outputs": [],
   "source": [
    "import seaborn as sns\n",
    "import matplotlib.pyplot as plt\n",
    "\n",
    "from pyspark.sql.functions import *\n",
    "from pyspark.sql.types import *\n",
    "from pyspark.ml.feature import StringIndexer\n",
    "from pyspark.ml.tuning import ParamGridBuilder, CrossValidator\n",
    "from pyspark.ml.evaluation import RegressionEvaluator\n",
    "from pyspark.ml.tuning import TrainValidationSplit\n",
    "\n",
    "import mlflow\n",
    "from pyspark.ml.recommendation import ALS\n",
    "\n",
    "mlflow.pyspark.ml.autolog()"
   ]
  },
  {
   "cell_type": "markdown",
   "metadata": {
    "application/vnd.databricks.v1+cell": {
     "cellMetadata": {
      "byteLimit": 2048000,
      "rowLimit": 10000
     },
     "inputWidgets": {},
     "nuid": "5fd54f9b-fd8f-446f-8279-81489674ce23",
     "showTitle": false,
     "title": ""
    }
   },
   "source": [
    "Loading Datasets"
   ]
  },
  {
   "cell_type": "code",
   "execution_count": 0,
   "metadata": {
    "application/vnd.databricks.v1+cell": {
     "cellMetadata": {
      "byteLimit": 2048000,
      "rowLimit": 10000
     },
     "inputWidgets": {},
     "nuid": "63092e69-e3e8-410f-b4c0-8e57b0102381",
     "showTitle": false,
     "title": ""
    }
   },
   "outputs": [],
   "source": [
    "from pyspark.sql.types import StructType, StructField, StringType, IntegerType\n",
    "\n",
    "schema = StructType([\n",
    "    StructField('Member_id', IntegerType()),\n",
    "    StructField('NameOfGames', StringType()),\n",
    "    StructField('behaviour', StringType()),\n",
    "    StructField('Hours_Played', DoubleType())\n",
    "])\n",
    "\n",
    "steam = spark.read.csv('/FileStore/tables/steam_200k.csv', schema=schema, header=False)"
   ]
  },
  {
   "cell_type": "code",
   "execution_count": 0,
   "metadata": {
    "application/vnd.databricks.v1+cell": {
     "cellMetadata": {
      "byteLimit": 2048000,
      "rowLimit": 10000
     },
     "inputWidgets": {},
     "nuid": "8d7cd571-3b94-49b9-95c0-70b9f01fbd0f",
     "showTitle": false,
     "title": ""
    }
   },
   "outputs": [
    {
     "output_type": "display_data",
     "data": {
      "text/html": [
       "<style scoped>\n",
       "  .table-result-container {\n",
       "    max-height: 300px;\n",
       "    overflow: auto;\n",
       "  }\n",
       "  table, th, td {\n",
       "    border: 1px solid black;\n",
       "    border-collapse: collapse;\n",
       "  }\n",
       "  th, td {\n",
       "    padding: 5px;\n",
       "  }\n",
       "  th {\n",
       "    text-align: left;\n",
       "  }\n",
       "</style><div class='table-result-container'><table class='table-result'><thead style='background-color: white'><tr><th>Member_id</th><th>NameOfGames</th><th>behaviour</th><th>Hours_Played</th></tr></thead><tbody><tr><td>151603712</td><td>The Elder Scrolls V Skyrim</td><td>purchase</td><td>1.0</td></tr><tr><td>151603712</td><td>The Elder Scrolls V Skyrim</td><td>play</td><td>273.0</td></tr><tr><td>151603712</td><td>Fallout 4</td><td>purchase</td><td>1.0</td></tr><tr><td>151603712</td><td>Fallout 4</td><td>play</td><td>87.0</td></tr><tr><td>151603712</td><td>Spore</td><td>purchase</td><td>1.0</td></tr></tbody></table></div>"
      ]
     },
     "metadata": {
      "application/vnd.databricks.v1+output": {
       "addedWidgets": {},
       "aggData": [],
       "aggError": "",
       "aggOverflow": false,
       "aggSchema": [],
       "aggSeriesLimitReached": false,
       "aggType": "",
       "arguments": {},
       "columnCustomDisplayInfos": {},
       "data": [
        [
         151603712,
         "The Elder Scrolls V Skyrim",
         "purchase",
         1.0
        ],
        [
         151603712,
         "The Elder Scrolls V Skyrim",
         "play",
         273.0
        ],
        [
         151603712,
         "Fallout 4",
         "purchase",
         1.0
        ],
        [
         151603712,
         "Fallout 4",
         "play",
         87.0
        ],
        [
         151603712,
         "Spore",
         "purchase",
         1.0
        ]
       ],
       "datasetInfos": [],
       "dbfsResultPath": null,
       "isJsonSchema": true,
       "metadata": {},
       "overflow": false,
       "plotOptions": {
        "customPlotOptions": {},
        "displayType": "table",
        "pivotAggregation": null,
        "pivotColumns": null,
        "xColumns": null,
        "yColumns": null
       },
       "removedWidgets": [],
       "schema": [
        {
         "metadata": "{}",
         "name": "Member_id",
         "type": "\"integer\""
        },
        {
         "metadata": "{}",
         "name": "NameOfGames",
         "type": "\"string\""
        },
        {
         "metadata": "{}",
         "name": "behaviour",
         "type": "\"string\""
        },
        {
         "metadata": "{}",
         "name": "Hours_Played",
         "type": "\"double\""
        }
       ],
       "type": "table"
      }
     },
     "output_type": "display_data"
    }
   ],
   "source": [
    "display(steam.limit(5))"
   ]
  },
  {
   "cell_type": "code",
   "execution_count": 0,
   "metadata": {
    "application/vnd.databricks.v1+cell": {
     "cellMetadata": {
      "byteLimit": 2048000,
      "rowLimit": 10000
     },
     "inputWidgets": {},
     "nuid": "fb3b53fd-ac5d-4507-9296-4865657d9c2f",
     "showTitle": false,
     "title": ""
    }
   },
   "outputs": [
    {
     "output_type": "display_data",
     "data": {
      "text/html": [
       "<style scoped>\n",
       "  .table-result-container {\n",
       "    max-height: 300px;\n",
       "    overflow: auto;\n",
       "  }\n",
       "  table, th, td {\n",
       "    border: 1px solid black;\n",
       "    border-collapse: collapse;\n",
       "  }\n",
       "  th, td {\n",
       "    padding: 5px;\n",
       "  }\n",
       "  th {\n",
       "    text-align: left;\n",
       "  }\n",
       "</style><div class='table-result-container'><table class='table-result'><thead style='background-color: white'><tr><th>GameId</th><th>GameName</th></tr></thead><tbody><tr><td>1</td><td>The Elder Scrolls V Skyrim</td></tr><tr><td>2</td><td>Fallout 4</td></tr><tr><td>3</td><td>Spore</td></tr><tr><td>4</td><td>Fallout New Vegas</td></tr><tr><td>5</td><td>Left 4 Dead 2</td></tr></tbody></table></div>"
      ]
     },
     "metadata": {
      "application/vnd.databricks.v1+output": {
       "addedWidgets": {},
       "aggData": [],
       "aggError": "",
       "aggOverflow": false,
       "aggSchema": [],
       "aggSeriesLimitReached": false,
       "aggType": "",
       "arguments": {},
       "columnCustomDisplayInfos": {},
       "data": [
        [
         1,
         "The Elder Scrolls V Skyrim"
        ],
        [
         2,
         "Fallout 4"
        ],
        [
         3,
         "Spore"
        ],
        [
         4,
         "Fallout New Vegas"
        ],
        [
         5,
         "Left 4 Dead 2"
        ]
       ],
       "datasetInfos": [],
       "dbfsResultPath": null,
       "isJsonSchema": true,
       "metadata": {},
       "overflow": false,
       "plotOptions": {
        "customPlotOptions": {},
        "displayType": "table",
        "pivotAggregation": null,
        "pivotColumns": null,
        "xColumns": null,
        "yColumns": null
       },
       "removedWidgets": [],
       "schema": [
        {
         "metadata": "{}",
         "name": "GameId",
         "type": "\"integer\""
        },
        {
         "metadata": "{}",
         "name": "GameName",
         "type": "\"string\""
        }
       ],
       "type": "table"
      }
     },
     "output_type": "display_data"
    }
   ],
   "source": [
    "gamesSchema = StructType([\n",
    "    StructField('GameId', IntegerType()),\n",
    "    StructField('GameName', StringType())\n",
    "])\n",
    "games = spark.read.csv('dbfs:/FileStore/tables/games.csv', \n",
    "                       header=False,\n",
    "                       schema= gamesSchema)\n",
    "display(games.limit(5))"
   ]
  },
  {
   "cell_type": "markdown",
   "metadata": {
    "application/vnd.databricks.v1+cell": {
     "cellMetadata": {
      "byteLimit": 2048000,
      "rowLimit": 10000
     },
     "inputWidgets": {},
     "nuid": "3c6c642d-6daa-46d9-88de-4da319909f3e",
     "showTitle": false,
     "title": ""
    }
   },
   "source": [
    "CHECKING FOR NULL VALUES"
   ]
  },
  {
   "cell_type": "code",
   "execution_count": 0,
   "metadata": {
    "application/vnd.databricks.v1+cell": {
     "cellMetadata": {
      "byteLimit": 2048000,
      "rowLimit": 10000
     },
     "inputWidgets": {},
     "nuid": "6ee325fc-3039-4387-af38-0c8bbd4201ab",
     "showTitle": false,
     "title": ""
    }
   },
   "outputs": [
    {
     "output_type": "stream",
     "name": "stdout",
     "output_type": "stream",
     "text": [
      "Steam Null counts:\n"
     ]
    },
    {
     "output_type": "display_data",
     "data": {
      "text/html": [
       "<style scoped>\n",
       "  .table-result-container {\n",
       "    max-height: 300px;\n",
       "    overflow: auto;\n",
       "  }\n",
       "  table, th, td {\n",
       "    border: 1px solid black;\n",
       "    border-collapse: collapse;\n",
       "  }\n",
       "  th, td {\n",
       "    padding: 5px;\n",
       "  }\n",
       "  th {\n",
       "    text-align: left;\n",
       "  }\n",
       "</style><div class='table-result-container'><table class='table-result'><thead style='background-color: white'><tr><th>Member_id</th><th>NameOfGames</th><th>behaviour</th><th>Hours_Played</th></tr></thead><tbody><tr><td>0</td><td>0</td><td>0</td><td>0</td></tr></tbody></table></div>"
      ]
     },
     "metadata": {
      "application/vnd.databricks.v1+output": {
       "addedWidgets": {},
       "aggData": [],
       "aggError": "",
       "aggOverflow": false,
       "aggSchema": [],
       "aggSeriesLimitReached": false,
       "aggType": "",
       "arguments": {},
       "columnCustomDisplayInfos": {},
       "data": [
        [
         0,
         0,
         0,
         0
        ]
       ],
       "datasetInfos": [],
       "dbfsResultPath": null,
       "isJsonSchema": true,
       "metadata": {},
       "overflow": false,
       "plotOptions": {
        "customPlotOptions": {},
        "displayType": "table",
        "pivotAggregation": null,
        "pivotColumns": null,
        "xColumns": null,
        "yColumns": null
       },
       "removedWidgets": [],
       "schema": [
        {
         "metadata": "{}",
         "name": "Member_id",
         "type": "\"long\""
        },
        {
         "metadata": "{}",
         "name": "NameOfGames",
         "type": "\"long\""
        },
        {
         "metadata": "{}",
         "name": "behaviour",
         "type": "\"long\""
        },
        {
         "metadata": "{}",
         "name": "Hours_Played",
         "type": "\"long\""
        }
       ],
       "type": "table"
      }
     },
     "output_type": "display_data"
    },
    {
     "output_type": "stream",
     "name": "stdout",
     "output_type": "stream",
     "text": [
      "\nGames Null counts:\n"
     ]
    },
    {
     "output_type": "display_data",
     "data": {
      "text/html": [
       "<style scoped>\n",
       "  .table-result-container {\n",
       "    max-height: 300px;\n",
       "    overflow: auto;\n",
       "  }\n",
       "  table, th, td {\n",
       "    border: 1px solid black;\n",
       "    border-collapse: collapse;\n",
       "  }\n",
       "  th, td {\n",
       "    padding: 5px;\n",
       "  }\n",
       "  th {\n",
       "    text-align: left;\n",
       "  }\n",
       "</style><div class='table-result-container'><table class='table-result'><thead style='background-color: white'><tr><th>GameId</th><th>GameName</th></tr></thead><tbody><tr><td>0</td><td>0</td></tr></tbody></table></div>"
      ]
     },
     "metadata": {
      "application/vnd.databricks.v1+output": {
       "addedWidgets": {},
       "aggData": [],
       "aggError": "",
       "aggOverflow": false,
       "aggSchema": [],
       "aggSeriesLimitReached": false,
       "aggType": "",
       "arguments": {},
       "columnCustomDisplayInfos": {},
       "data": [
        [
         0,
         0
        ]
       ],
       "datasetInfos": [],
       "dbfsResultPath": null,
       "isJsonSchema": true,
       "metadata": {},
       "overflow": false,
       "plotOptions": {
        "customPlotOptions": {},
        "displayType": "table",
        "pivotAggregation": null,
        "pivotColumns": null,
        "xColumns": null,
        "yColumns": null
       },
       "removedWidgets": [],
       "schema": [
        {
         "metadata": "{}",
         "name": "GameId",
         "type": "\"long\""
        },
        {
         "metadata": "{}",
         "name": "GameName",
         "type": "\"long\""
        }
       ],
       "type": "table"
      }
     },
     "output_type": "display_data"
    }
   ],
   "source": [
    "# Count the number of null values in each column before dropping\n",
    "null_count_steam = steam.select([count(when(isnull(c), c)).alias(c) for c in steam.columns])\n",
    "null_count_games = games.select([count(when(isnull(c), c)).alias(c) for c in games.columns])\n",
    "\n",
    "# Print the null counts \n",
    "print(\"Steam Null counts:\")\n",
    "null_count_steam.display()\n",
    "print(\"\\nGames Null counts:\")\n",
    "null_count_games.display()"
   ]
  },
  {
   "cell_type": "markdown",
   "metadata": {
    "application/vnd.databricks.v1+cell": {
     "cellMetadata": {
      "byteLimit": 2048000,
      "rowLimit": 10000
     },
     "inputWidgets": {},
     "nuid": "a10afcea-dddf-461d-88c6-a2c4d5e18937",
     "showTitle": false,
     "title": ""
    }
   },
   "source": [
    "EXPLORATORY ANALYSIS"
   ]
  },
  {
   "cell_type": "code",
   "execution_count": 0,
   "metadata": {
    "application/vnd.databricks.v1+cell": {
     "cellMetadata": {
      "byteLimit": 2048000,
      "rowLimit": 10000
     },
     "inputWidgets": {},
     "nuid": "8caa14bd-3c84-46b1-aec4-aa14d6faa16b",
     "showTitle": false,
     "title": ""
    }
   },
   "outputs": [
    {
     "output_type": "stream",
     "name": "stdout",
     "output_type": "stream",
     "text": [
      "Length of the Files \n\n Games: 5155 \n\n Steam: 200000\n"
     ]
    }
   ],
   "source": [
    "#Total Count of Files\n",
    "games_count= games.count()\n",
    "steam_count= steam.count()\n",
    "\n",
    "print(f'Length of the Files \\n\\n Games: {games_count} \\n\\n Steam: {steam_count}')"
   ]
  },
  {
   "cell_type": "code",
   "execution_count": 0,
   "metadata": {
    "application/vnd.databricks.v1+cell": {
     "cellMetadata": {
      "byteLimit": 2048000,
      "rowLimit": 10000
     },
     "inputWidgets": {},
     "nuid": "6b9f1329-81c1-412e-ac83-28329c2ed51c",
     "showTitle": false,
     "title": ""
    }
   },
   "outputs": [
    {
     "output_type": "stream",
     "name": "stdout",
     "output_type": "stream",
     "text": [
      "The Distinct Number of Games Played on Steam file: 5155\n"
     ]
    }
   ],
   "source": [
    "#Distinct number of games available on Steam\n",
    "distinct_games_count= steam.select('NameOfGames').distinct().count()\n",
    "print(f'The Distinct Number of Games Played on Steam file: {distinct_games_count}')"
   ]
  },
  {
   "cell_type": "code",
   "execution_count": 0,
   "metadata": {
    "application/vnd.databricks.v1+cell": {
     "cellMetadata": {
      "byteLimit": 2048000,
      "rowLimit": 10000
     },
     "inputWidgets": {},
     "nuid": "1508560c-d3a8-4d13-ab75-8a7f063e85a5",
     "showTitle": false,
     "title": ""
    }
   },
   "outputs": [
    {
     "output_type": "stream",
     "name": "stdout",
     "output_type": "stream",
     "text": [
      "Duplicates found:\n"
     ]
    },
    {
     "output_type": "display_data",
     "data": {
      "text/html": [
       "<style scoped>\n",
       "  .table-result-container {\n",
       "    max-height: 300px;\n",
       "    overflow: auto;\n",
       "  }\n",
       "  table, th, td {\n",
       "    border: 1px solid black;\n",
       "    border-collapse: collapse;\n",
       "  }\n",
       "  th, td {\n",
       "    padding: 5px;\n",
       "  }\n",
       "  th {\n",
       "    text-align: left;\n",
       "  }\n",
       "</style><div class='table-result-container'><table class='table-result'><thead style='background-color: white'><tr><th>Member_id</th><th>NameOfGames</th><th>behaviour</th><th>Hours_Played</th><th>count</th></tr></thead><tbody><tr><td>9823354</td><td>Sid Meier's Civilization IV Warlords</td><td>purchase</td><td>1.0</td><td>2</td></tr><tr><td>2259650</td><td>Sid Meier's Civilization IV Colonization</td><td>purchase</td><td>1.0</td><td>2</td></tr><tr><td>56038151</td><td>Grand Theft Auto San Andreas</td><td>purchase</td><td>1.0</td><td>2</td></tr><tr><td>142001340</td><td>Grand Theft Auto San Andreas</td><td>purchase</td><td>1.0</td><td>2</td></tr><tr><td>152959594</td><td>Grand Theft Auto III</td><td>purchase</td><td>1.0</td><td>2</td></tr></tbody></table></div>"
      ]
     },
     "metadata": {
      "application/vnd.databricks.v1+output": {
       "addedWidgets": {},
       "aggData": [],
       "aggError": "",
       "aggOverflow": false,
       "aggSchema": [],
       "aggSeriesLimitReached": false,
       "aggType": "",
       "arguments": {},
       "columnCustomDisplayInfos": {},
       "data": [
        [
         9823354,
         "Sid Meier's Civilization IV Warlords",
         "purchase",
         1.0,
         2
        ],
        [
         2259650,
         "Sid Meier's Civilization IV Colonization",
         "purchase",
         1.0,
         2
        ],
        [
         56038151,
         "Grand Theft Auto San Andreas",
         "purchase",
         1.0,
         2
        ],
        [
         142001340,
         "Grand Theft Auto San Andreas",
         "purchase",
         1.0,
         2
        ],
        [
         152959594,
         "Grand Theft Auto III",
         "purchase",
         1.0,
         2
        ]
       ],
       "datasetInfos": [],
       "dbfsResultPath": null,
       "isJsonSchema": true,
       "metadata": {},
       "overflow": false,
       "plotOptions": {
        "customPlotOptions": {},
        "displayType": "table",
        "pivotAggregation": null,
        "pivotColumns": null,
        "xColumns": null,
        "yColumns": null
       },
       "removedWidgets": [],
       "schema": [
        {
         "metadata": "{}",
         "name": "Member_id",
         "type": "\"integer\""
        },
        {
         "metadata": "{}",
         "name": "NameOfGames",
         "type": "\"string\""
        },
        {
         "metadata": "{}",
         "name": "behaviour",
         "type": "\"string\""
        },
        {
         "metadata": "{}",
         "name": "Hours_Played",
         "type": "\"double\""
        },
        {
         "metadata": "{}",
         "name": "count",
         "type": "\"long\""
        }
       ],
       "type": "table"
      }
     },
     "output_type": "display_data"
    }
   ],
   "source": [
    "# Check for duplicates in the dataset\n",
    "duplicates = steam.groupBy(steam.columns).count().filter(col(\"count\") > 1)\n",
    "\n",
    "# Display duplicates\n",
    "if duplicates.count() > 0:\n",
    "    print(\"Duplicates found:\")\n",
    "    display(duplicates.limit(5))\n",
    "else:\n",
    "    print(\"No duplicates found.\")"
   ]
  },
  {
   "cell_type": "code",
   "execution_count": 0,
   "metadata": {
    "application/vnd.databricks.v1+cell": {
     "cellMetadata": {
      "byteLimit": 2048000,
      "rowLimit": 10000
     },
     "inputWidgets": {},
     "nuid": "458e060c-464c-4cee-ad2e-8db86b01bac5",
     "showTitle": false,
     "title": ""
    }
   },
   "outputs": [],
   "source": [
    "# Remove duplicates\n",
    "steam = steam.dropDuplicates()"
   ]
  },
  {
   "cell_type": "code",
   "execution_count": 0,
   "metadata": {
    "application/vnd.databricks.v1+cell": {
     "cellMetadata": {
      "byteLimit": 2048000,
      "rowLimit": 10000
     },
     "inputWidgets": {},
     "nuid": "bd6b4358-95f2-456f-ba0f-9a17f8ec2adc",
     "showTitle": false,
     "title": ""
    }
   },
   "outputs": [
    {
     "output_type": "display_data",
     "data": {
      "text/html": [
       "<style scoped>\n",
       "  .table-result-container {\n",
       "    max-height: 300px;\n",
       "    overflow: auto;\n",
       "  }\n",
       "  table, th, td {\n",
       "    border: 1px solid black;\n",
       "    border-collapse: collapse;\n",
       "  }\n",
       "  th, td {\n",
       "    padding: 5px;\n",
       "  }\n",
       "  th {\n",
       "    text-align: left;\n",
       "  }\n",
       "</style><div class='table-result-container'><table class='table-result'><thead style='background-color: white'><tr><th>behaviour</th><th>count</th><th>Percentage</th></tr></thead><tbody><tr><td>purchase</td><td>128804</td><td>64.63</td></tr><tr><td>play</td><td>70489</td><td>35.37</td></tr></tbody></table></div>"
      ]
     },
     "metadata": {
      "application/vnd.databricks.v1+output": {
       "addedWidgets": {},
       "aggData": [],
       "aggError": "",
       "aggOverflow": false,
       "aggSchema": [],
       "aggSeriesLimitReached": false,
       "aggType": "",
       "arguments": {},
       "columnCustomDisplayInfos": {},
       "data": [
        [
         "purchase",
         128804,
         64.63
        ],
        [
         "play",
         70489,
         35.37
        ]
       ],
       "datasetInfos": [],
       "dbfsResultPath": null,
       "isJsonSchema": true,
       "metadata": {},
       "overflow": false,
       "plotOptions": {
        "customPlotOptions": {},
        "displayType": "table",
        "pivotAggregation": null,
        "pivotColumns": null,
        "xColumns": null,
        "yColumns": null
       },
       "removedWidgets": [],
       "schema": [
        {
         "metadata": "{}",
         "name": "behaviour",
         "type": "\"string\""
        },
        {
         "metadata": "{}",
         "name": "count",
         "type": "\"long\""
        },
        {
         "metadata": "{}",
         "name": "Percentage",
         "type": "\"double\""
        }
       ],
       "type": "table"
      }
     },
     "output_type": "display_data"
    },
    {
     "output_type": "display_data",
     "data": {
      "image/png": "[encoded data removed]",
      "text/plain": [
       "<Figure size 800x400 with 1 Axes>"
      ]
     },
     "metadata": {},
     "output_type": "display_data"
    }
   ],
   "source": [
    "#Calculate the percentage of game purchases compared to played games\n",
    "total_records = steam.count()\n",
    "\n",
    "#Group the data by behaviour (purchase or play), count occurrences, and calculate the percentage\n",
    "purchase_play_percentage = steam.groupBy(\"behaviour\") \\\n",
    ".count() \\\n",
    ".withColumn(\"Percentage\", round((col(\"count\") / lit(total_records)) * 100, 2))\n",
    "\n",
    "#Display the results\n",
    "purchase_play_percentage.display()\n",
    "\n",
    "#Convert the Spark DataFrame to a Pandas DataFrame for visualization\n",
    "purchase_play_percentage_pd = purchase_play_percentage.toPandas()\n",
    "\n",
    "#Plotting the percentage of purchase and play behaviour\n",
    "plt.figure(figsize=(8, 4))\n",
    "sns.barplot(x='behaviour', y='Percentage', data=purchase_play_percentage_pd, palette='Set1')\n",
    "\n",
    "#Annotate each bar with its percentage value\n",
    "for index, row in purchase_play_percentage_pd.iterrows():\n",
    "    plt.text(row.name, row.Percentage, f'{row.Percentage}%', color='black', ha=\"center\")\n",
    "\n",
    "#Set plot title and labels\n",
    "plt.title('Visualizing Percentage of Purchase and Play behaviour')\n",
    "plt.xlabel('behaviour')\n",
    "plt.ylabel('Percentage')\n",
    "\n",
    "#Show the plot\n",
    "plt.show()"
   ]
  },
  {
   "cell_type": "code",
   "execution_count": 0,
   "metadata": {
    "application/vnd.databricks.v1+cell": {
     "cellMetadata": {
      "byteLimit": 2048000,
      "rowLimit": 10000
     },
     "inputWidgets": {},
     "nuid": "68293079-d466-4e16-8e9b-1707217632df",
     "showTitle": false,
     "title": ""
    }
   },
   "outputs": [
    {
     "output_type": "display_data",
     "data": {
      "text/html": [
       "<style scoped>\n",
       "  .table-result-container {\n",
       "    max-height: 300px;\n",
       "    overflow: auto;\n",
       "  }\n",
       "  table, th, td {\n",
       "    border: 1px solid black;\n",
       "    border-collapse: collapse;\n",
       "  }\n",
       "  th, td {\n",
       "    padding: 5px;\n",
       "  }\n",
       "  th {\n",
       "    text-align: left;\n",
       "  }\n",
       "</style><div class='table-result-container'><table class='table-result'><thead style='background-color: white'><tr><th>NameOfGames</th><th>count</th></tr></thead><tbody><tr><td>Dota 2</td><td>4841</td></tr><tr><td>Team Fortress 2</td><td>2323</td></tr><tr><td>Unturned</td><td>1563</td></tr><tr><td>Counter-Strike Global Offensive</td><td>1412</td></tr><tr><td>Half-Life 2 Lost Coast</td><td>981</td></tr><tr><td>Counter-Strike Source</td><td>978</td></tr></tbody></table></div>"
      ]
     },
     "metadata": {
      "application/vnd.databricks.v1+output": {
       "addedWidgets": {},
       "aggData": [],
       "aggError": "",
       "aggOverflow": false,
       "aggSchema": [],
       "aggSeriesLimitReached": false,
       "aggType": "",
       "arguments": {},
       "columnCustomDisplayInfos": {},
       "data": [
        [
         "Dota 2",
         4841
        ],
        [
         "Team Fortress 2",
         2323
        ],
        [
         "Unturned",
         1563
        ],
        [
         "Counter-Strike Global Offensive",
         1412
        ],
        [
         "Half-Life 2 Lost Coast",
         981
        ],
        [
         "Counter-Strike Source",
         978
        ]
       ],
       "datasetInfos": [],
       "dbfsResultPath": null,
       "isJsonSchema": true,
       "metadata": {},
       "overflow": false,
       "plotOptions": {
        "customPlotOptions": {},
        "displayType": "table",
        "pivotAggregation": null,
        "pivotColumns": null,
        "xColumns": null,
        "yColumns": null
       },
       "removedWidgets": [],
       "schema": [
        {
         "metadata": "{}",
         "name": "NameOfGames",
         "type": "\"string\""
        },
        {
         "metadata": "{}",
         "name": "count",
         "type": "\"long\""
        }
       ],
       "type": "table"
      }
     },
     "output_type": "display_data"
    },
    {
     "output_type": "display_data",
     "data": {
      "image/png": "[encoded data removed]",
      "text/plain": [
       "<Figure size 700x400 with 1 Axes>"
      ]
     },
     "metadata": {},
     "output_type": "display_data"
    }
   ],
   "source": [
    "#Most Purchased Steam games by users\n",
    "purchase_games = steam.filter(col('behaviour') == 'purchase')\n",
    "top_purchase_games = purchase_games.groupBy('NameOfGames').count()\n",
    "top_purchase_games = top_purchase_games.orderBy('count', ascending=False).limit(6)\n",
    "top_purchase_games.display()\n",
    "\n",
    "#Convert to Pandas DataFrame\n",
    "top_purchase_games = top_purchase_games.toPandas()\n",
    "\n",
    "# Plot the countplot using Seaborn\n",
    "plt.figure(figsize=(7, 4))\n",
    "sns.barplot(x='count', y='NameOfGames', data=top_purchase_games, palette='viridis')\n",
    "plt.xlabel('Count')\n",
    "plt.ylabel('Game Title')\n",
    "plt.title('Top 5 Maximum Purchased Games')\n",
    "plt.xticks(rotation = 0)\n",
    "plt.show()"
   ]
  },
  {
   "cell_type": "code",
   "execution_count": 0,
   "metadata": {
    "application/vnd.databricks.v1+cell": {
     "cellMetadata": {
      "byteLimit": 2048000,
      "rowLimit": 10000
     },
     "inputWidgets": {},
     "nuid": "6dbdb20f-9695-4f81-a09c-cb59f22ba024",
     "showTitle": false,
     "title": ""
    }
   },
   "outputs": [
    {
     "output_type": "display_data",
     "data": {
      "text/html": [
       "<style scoped>\n",
       "  .table-result-container {\n",
       "    max-height: 300px;\n",
       "    overflow: auto;\n",
       "  }\n",
       "  table, th, td {\n",
       "    border: 1px solid black;\n",
       "    border-collapse: collapse;\n",
       "  }\n",
       "  th, td {\n",
       "    padding: 5px;\n",
       "  }\n",
       "  th {\n",
       "    text-align: left;\n",
       "  }\n",
       "</style><div class='table-result-container'><table class='table-result'><thead style='background-color: white'><tr><th>NameOfGames</th><th>sum(Hours_Played)</th></tr></thead><tbody><tr><td>Dota 2</td><td>981684.6000000001</td></tr><tr><td>Counter-Strike Global Offensive</td><td>322771.60000000015</td></tr><tr><td>Team Fortress 2</td><td>173673.3</td></tr><tr><td>Counter-Strike</td><td>134261.09999999992</td></tr><tr><td>Sid Meier's Civilization V</td><td>99821.29999999999</td></tr></tbody></table></div>"
      ]
     },
     "metadata": {
      "application/vnd.databricks.v1+output": {
       "addedWidgets": {},
       "aggData": [],
       "aggError": "",
       "aggOverflow": false,
       "aggSchema": [],
       "aggSeriesLimitReached": false,
       "aggType": "",
       "arguments": {},
       "columnCustomDisplayInfos": {},
       "data": [
        [
         "Dota 2",
         981684.6000000001
        ],
        [
         "Counter-Strike Global Offensive",
         322771.60000000015
        ],
        [
         "Team Fortress 2",
         173673.3
        ],
        [
         "Counter-Strike",
         134261.09999999992
        ],
        [
         "Sid Meier's Civilization V",
         99821.29999999999
        ]
       ],
       "datasetInfos": [],
       "dbfsResultPath": null,
       "isJsonSchema": true,
       "metadata": {},
       "overflow": false,
       "plotOptions": {
        "customPlotOptions": {},
        "displayType": "table",
        "pivotAggregation": null,
        "pivotColumns": null,
        "xColumns": null,
        "yColumns": null
       },
       "removedWidgets": [],
       "schema": [
        {
         "metadata": "{}",
         "name": "NameOfGames",
         "type": "\"string\""
        },
        {
         "metadata": "{}",
         "name": "sum(Hours_Played)",
         "type": "\"double\""
        }
       ],
       "type": "table"
      }
     },
     "output_type": "display_data"
    },
    {
     "output_type": "display_data",
     "data": {
      "image/png": "[encoded data removed]",
      "text/plain": [
       "<Figure size 700x400 with 1 Axes>"
      ]
     },
     "metadata": {},
     "output_type": "display_data"
    }
   ],
   "source": [
    "# Top 5 Maximum Played Games\n",
    "top_played_games = steam.filter(steam['behaviour'] == 'play') \\\n",
    "                            .groupBy('NameOfGames') \\\n",
    "                            .sum('Hours_Played') \\\n",
    "                            .orderBy('sum(Hours_Played)', ascending=False) \\\n",
    "                            .limit(5)\n",
    " \n",
    "\n",
    "top_played_games_pandas = top_played_games.toPandas()\n",
    "top_played_games_pandas.display()\n",
    "\n",
    "plt.figure(figsize=(7, 4))\n",
    "sns.barplot(x='sum(Hours_Played)', y='NameOfGames', data= top_played_games_pandas, palette='viridis')\n",
    "plt.xlabel('Game Title')\n",
    "plt.ylabel('Total Hours Played')\n",
    "plt.title('Top 5 Maximum Played Games')\n",
    "plt.xticks(rotation=0)\n",
    "plt.show()"
   ]
  },
  {
   "cell_type": "code",
   "execution_count": 0,
   "metadata": {
    "application/vnd.databricks.v1+cell": {
     "cellMetadata": {
      "byteLimit": 2048000,
      "rowLimit": 10000
     },
     "inputWidgets": {},
     "nuid": "05ec4e4d-0817-4d50-a406-4424b8399d7d",
     "showTitle": false,
     "title": ""
    }
   },
   "outputs": [
    {
     "output_type": "display_data",
     "data": {
      "image/png": "[encoded data removed]",
      "text/plain": [
       "<Figure size 700x400 with 1 Axes>"
      ]
     },
     "metadata": {},
     "output_type": "display_data"
    }
   ],
   "source": [
    "# Plot the scatter plot\n",
    "plt.figure(figsize=(7, 4))\n",
    "sns.scatterplot(x='Member_id', y='Hours_Played', data=steam.toPandas(), hue= 'Hours_Played', palette= 'viridis')\n",
    "\n",
    "# Set plot title and labels\n",
    "plt.title('Hours Played by Member')\n",
    "plt.xlabel('Member ID')\n",
    "plt.ylabel('Hours Played')\n",
    "\n",
    "# Show plot\n",
    "plt.show()"
   ]
  },
  {
   "cell_type": "code",
   "execution_count": 0,
   "metadata": {
    "application/vnd.databricks.v1+cell": {
     "cellMetadata": {
      "byteLimit": 2048000,
      "rowLimit": 10000
     },
     "inputWidgets": {},
     "nuid": "d5b6e4e0-1fcf-420b-ab7b-23389bba75af",
     "showTitle": false,
     "title": ""
    }
   },
   "outputs": [
    {
     "output_type": "display_data",
     "data": {
      "image/png": "[encoded data removed]",
      "text/plain": [
       "<Figure size 700x400 with 1 Axes>"
      ]
     },
     "metadata": {},
     "output_type": "display_data"
    }
   ],
   "source": [
    "#check for outliers on the hours played samples provided\n",
    "plt.figure(figsize=(7, 4))\n",
    "plt.boxplot(data=steam.toPandas(), x='Hours_Played')\n",
    "\n",
    "plt.xlabel('Hours Played')\n",
    "plt.title('Box Plot of Hours Played')\n",
    "\n",
    "plt.show()"
   ]
  },
  {
   "cell_type": "markdown",
   "metadata": {
    "application/vnd.databricks.v1+cell": {
     "cellMetadata": {
      "byteLimit": 2048000,
      "rowLimit": 10000
     },
     "inputWidgets": {},
     "nuid": "9a743dad-efe5-4d21-b6dc-4aba7697e677",
     "showTitle": false,
     "title": ""
    }
   },
   "source": [
    "MODEL CREATION AND EVALUATION"
   ]
  },
  {
   "cell_type": "markdown",
   "metadata": {
    "application/vnd.databricks.v1+cell": {
     "cellMetadata": {
      "byteLimit": 2048000,
      "rowLimit": 10000
     },
     "inputWidgets": {},
     "nuid": "2ed919be-dad2-4d2b-a0eb-1228ba8d7084",
     "showTitle": false,
     "title": ""
    }
   },
   "source": [
    "Creation of Distinct/Unique Steam Game IDs"
   ]
  },
  {
   "cell_type": "code",
   "execution_count": 0,
   "metadata": {
    "application/vnd.databricks.v1+cell": {
     "cellMetadata": {
      "byteLimit": 2048000,
      "rowLimit": 10000
     },
     "inputWidgets": {},
     "nuid": "77af20a1-26cc-422d-a0e0-dbaf8eccaad4",
     "showTitle": false,
     "title": ""
    }
   },
   "outputs": [
    {
     "output_type": "stream",
     "name": "stderr",
     "output_type": "stream",
     "text": [
      "2024/07/19 09:52:33 INFO mlflow.utils.autologging_utils: Created MLflow autologging run with ID 'd508005f8e7c4dacb4df5ac31f7e5665', which will track hyperparameters, performance metrics, model artifacts, and lineage information for the current pyspark.ml workflow\n"
     ]
    }
   ],
   "source": [
    "# Create a StringIndexer to assign unique numerical identifiers to each game based on frequency of occurrence\n",
    "indexer = StringIndexer(inputCol='NameOfGames', outputCol='Game_Id', stringOrderType='frequencyDesc')\n",
    "\n",
    "# Fit the StringIndexer model to the 'steam' DataFrame and transform the data to generate game IDs\n",
    "steam_2 = indexer.fit(steam).transform(steam)\n",
    "\n",
    "# Increment all Game IDs by one to avoid starting from zero and ensure uniqueness\n",
    "steam_2 = steam_2.withColumn('Game_Id', steam_2['Game_Id'] + 1)"
   ]
  },
  {
   "cell_type": "code",
   "execution_count": 0,
   "metadata": {
    "application/vnd.databricks.v1+cell": {
     "cellMetadata": {
      "byteLimit": 2048000,
      "rowLimit": 10000
     },
     "inputWidgets": {},
     "nuid": "57248c3c-4a63-443e-be41-1a3bbbfdc917",
     "showTitle": false,
     "title": ""
    }
   },
   "outputs": [],
   "source": [
    "game_identifier_generated = steam_2.select('Game_Id', 'NameOfGames').dropDuplicates()"
   ]
  },
  {
   "cell_type": "code",
   "execution_count": 0,
   "metadata": {
    "application/vnd.databricks.v1+cell": {
     "cellMetadata": {
      "byteLimit": 2048000,
      "rowLimit": 10000
     },
     "inputWidgets": {},
     "nuid": "49534df7-6728-41ff-ba6e-c2cc0fd7ae8f",
     "showTitle": false,
     "title": ""
    }
   },
   "outputs": [
    {
     "output_type": "display_data",
     "data": {
      "text/html": [
       "<style scoped>\n",
       "  .table-result-container {\n",
       "    max-height: 300px;\n",
       "    overflow: auto;\n",
       "  }\n",
       "  table, th, td {\n",
       "    border: 1px solid black;\n",
       "    border-collapse: collapse;\n",
       "  }\n",
       "  th, td {\n",
       "    padding: 5px;\n",
       "  }\n",
       "  th {\n",
       "    text-align: left;\n",
       "  }\n",
       "</style><div class='table-result-container'><table class='table-result'><thead style='background-color: white'><tr><th>Game_Id</th><th>NameOfGames</th></tr></thead><tbody><tr><td>1.0</td><td>Dota 2</td></tr><tr><td>2.0</td><td>Team Fortress 2</td></tr><tr><td>3.0</td><td>Counter-Strike Global Offensive</td></tr><tr><td>4.0</td><td>Unturned</td></tr><tr><td>5.0</td><td>Left 4 Dead 2</td></tr></tbody></table></div>"
      ]
     },
     "metadata": {
      "application/vnd.databricks.v1+output": {
       "addedWidgets": {},
       "aggData": [],
       "aggError": "",
       "aggOverflow": false,
       "aggSchema": [],
       "aggSeriesLimitReached": false,
       "aggType": "",
       "arguments": {},
       "columnCustomDisplayInfos": {},
       "data": [
        [
         1.0,
         "Dota 2"
        ],
        [
         2.0,
         "Team Fortress 2"
        ],
        [
         3.0,
         "Counter-Strike Global Offensive"
        ],
        [
         4.0,
         "Unturned"
        ],
        [
         5.0,
         "Left 4 Dead 2"
        ]
       ],
       "datasetInfos": [],
       "dbfsResultPath": null,
       "isJsonSchema": true,
       "metadata": {},
       "overflow": false,
       "plotOptions": {
        "customPlotOptions": {},
        "displayType": "table",
        "pivotAggregation": null,
        "pivotColumns": null,
        "xColumns": null,
        "yColumns": null
       },
       "removedWidgets": [],
       "schema": [
        {
         "metadata": "{}",
         "name": "Game_Id",
         "type": "\"double\""
        },
        {
         "metadata": "{}",
         "name": "NameOfGames",
         "type": "\"string\""
        }
       ],
       "type": "table"
      }
     },
     "output_type": "display_data"
    }
   ],
   "source": [
    "display(game_identifier_generated.orderBy('Game_ID').limit(5))"
   ]
  },
  {
   "cell_type": "markdown",
   "metadata": {
    "application/vnd.databricks.v1+cell": {
     "cellMetadata": {
      "byteLimit": 2048000,
      "rowLimit": 10000
     },
     "inputWidgets": {},
     "nuid": "8ef5284d-a954-4dcf-ab36-0f688019631b",
     "showTitle": false,
     "title": ""
    }
   },
   "source": [
    "Sorting Games by Played and Purchased and Eliminating Unwanted Training Columns"
   ]
  },
  {
   "cell_type": "code",
   "execution_count": 0,
   "metadata": {
    "application/vnd.databricks.v1+cell": {
     "cellMetadata": {
      "byteLimit": 2048000,
      "rowLimit": 10000
     },
     "inputWidgets": {},
     "nuid": "cbf49ecd-6e85-4fa6-8544-8ea0550a483f",
     "showTitle": false,
     "title": ""
    }
   },
   "outputs": [],
   "source": [
    "# Separate Purchased and Played Games\n",
    "# Filter the DataFrame to select rows where 'behaviour' is 'purchase'\n",
    "purchased_games = steam_2.filter(col('behaviour') == 'purchase')\n",
    "\n",
    "# Filter the DataFrame to select rows where 'behaviour' is 'play'\n",
    "played_games = steam_2.filter(col('behaviour') == 'play')"
   ]
  },
  {
   "cell_type": "code",
   "execution_count": 0,
   "metadata": {
    "application/vnd.databricks.v1+cell": {
     "cellMetadata": {
      "byteLimit": 2048000,
      "rowLimit": 10000
     },
     "inputWidgets": {},
     "nuid": "04b626cd-cd8f-4047-be77-b8e462bfce54",
     "showTitle": false,
     "title": ""
    }
   },
   "outputs": [
    {
     "output_type": "display_data",
     "data": {
      "text/html": [
       "<style scoped>\n",
       "  .table-result-container {\n",
       "    max-height: 300px;\n",
       "    overflow: auto;\n",
       "  }\n",
       "  table, th, td {\n",
       "    border: 1px solid black;\n",
       "    border-collapse: collapse;\n",
       "  }\n",
       "  th, td {\n",
       "    padding: 5px;\n",
       "  }\n",
       "  th {\n",
       "    text-align: left;\n",
       "  }\n",
       "</style><div class='table-result-container'><table class='table-result'><thead style='background-color: white'><tr><th>Member_id</th><th>Hours_Played</th><th>Game_Id</th></tr></thead><tbody><tr><td>53875128</td><td>9.8</td><td>731.0</td></tr><tr><td>53875128</td><td>0.1</td><td>604.0</td></tr><tr><td>65117175</td><td>3.3</td><td>97.0</td></tr><tr><td>11373749</td><td>7.0</td><td>1926.0</td></tr><tr><td>11373749</td><td>2.3</td><td>148.0</td></tr></tbody></table></div>"
      ]
     },
     "metadata": {
      "application/vnd.databricks.v1+output": {
       "addedWidgets": {},
       "aggData": [],
       "aggError": "",
       "aggOverflow": false,
       "aggSchema": [],
       "aggSeriesLimitReached": false,
       "aggType": "",
       "arguments": {},
       "columnCustomDisplayInfos": {},
       "data": [
        [
         53875128,
         9.8,
         731.0
        ],
        [
         53875128,
         0.1,
         604.0
        ],
        [
         65117175,
         3.3,
         97.0
        ],
        [
         11373749,
         7.0,
         1926.0
        ],
        [
         11373749,
         2.3,
         148.0
        ]
       ],
       "datasetInfos": [],
       "dbfsResultPath": null,
       "isJsonSchema": true,
       "metadata": {},
       "overflow": false,
       "plotOptions": {
        "customPlotOptions": {},
        "displayType": "table",
        "pivotAggregation": null,
        "pivotColumns": null,
        "xColumns": null,
        "yColumns": null
       },
       "removedWidgets": [],
       "schema": [
        {
         "metadata": "{}",
         "name": "Member_id",
         "type": "\"integer\""
        },
        {
         "metadata": "{}",
         "name": "Hours_Played",
         "type": "\"float\""
        },
        {
         "metadata": "{}",
         "name": "Game_Id",
         "type": "\"double\""
        }
       ],
       "type": "table"
      }
     },
     "output_type": "display_data"
    },
    {
     "output_type": "display_data",
     "data": {
      "text/html": [
       "<style scoped>\n",
       "  .table-result-container {\n",
       "    max-height: 300px;\n",
       "    overflow: auto;\n",
       "  }\n",
       "  table, th, td {\n",
       "    border: 1px solid black;\n",
       "    border-collapse: collapse;\n",
       "  }\n",
       "  th, td {\n",
       "    padding: 5px;\n",
       "  }\n",
       "  th {\n",
       "    text-align: left;\n",
       "  }\n",
       "</style><div class='table-result-container'><table class='table-result'><thead style='background-color: white'><tr><th>Member_id</th><th>Hours_Played</th><th>Game_Id</th></tr></thead><tbody><tr><td>53875128</td><td>1</td><td>602.0</td></tr><tr><td>53875128</td><td>1</td><td>4082.0</td></tr><tr><td>126340495</td><td>1</td><td>81.0</td></tr><tr><td>97298878</td><td>1</td><td>560.0</td></tr><tr><td>226212066</td><td>1</td><td>1452.0</td></tr></tbody></table></div>"
      ]
     },
     "metadata": {
      "application/vnd.databricks.v1+output": {
       "addedWidgets": {},
       "aggData": [],
       "aggError": "",
       "aggOverflow": false,
       "aggSchema": [],
       "aggSeriesLimitReached": false,
       "aggType": "",
       "arguments": {},
       "columnCustomDisplayInfos": {},
       "data": [
        [
         53875128,
         1,
         602.0
        ],
        [
         53875128,
         1,
         4082.0
        ],
        [
         126340495,
         1,
         81.0
        ],
        [
         97298878,
         1,
         560.0
        ],
        [
         226212066,
         1,
         1452.0
        ]
       ],
       "datasetInfos": [],
       "dbfsResultPath": null,
       "isJsonSchema": true,
       "metadata": {},
       "overflow": false,
       "plotOptions": {
        "customPlotOptions": {},
        "displayType": "table",
        "pivotAggregation": null,
        "pivotColumns": null,
        "xColumns": null,
        "yColumns": null
       },
       "removedWidgets": [],
       "schema": [
        {
         "metadata": "{}",
         "name": "Member_id",
         "type": "\"integer\""
        },
        {
         "metadata": "{}",
         "name": "Hours_Played",
         "type": "\"integer\""
        },
        {
         "metadata": "{}",
         "name": "Game_Id",
         "type": "\"double\""
        }
       ],
       "type": "table"
      }
     },
     "output_type": "display_data"
    }
   ],
   "source": [
    "# Remove Unnecessary Columns and Adjust Data Types for Purchased Games\n",
    "purchased_games = purchased_games.drop('NameOfGames', 'behaviour', 'GameName')\n",
    "purchased_games = purchased_games.withColumn('Hours_Played', col('Hours_Played').cast(IntegerType()))\n",
    "\n",
    "# Remove Unnecessary Columns and Adjust Data Types for Played Games\n",
    "played_games = played_games.drop('NameOfGames', 'behaviour', 'GameName')\n",
    "played_games = played_games.withColumn('Hours_Played', col('Hours_Played').cast(FloatType())).dropna()\n",
    "\n",
    "# Display the DataFrame for Played Games\n",
    "display(played_games.limit(5))\n",
    "\n",
    "# Display the DataFrame for Purchased Games\n",
    "display(purchased_games.limit(5))"
   ]
  },
  {
   "cell_type": "markdown",
   "metadata": {
    "application/vnd.databricks.v1+cell": {
     "cellMetadata": {
      "byteLimit": 2048000,
      "rowLimit": 10000
     },
     "inputWidgets": {},
     "nuid": "6decd97b-40bc-4de4-8fb5-a141730b54d4",
     "showTitle": false,
     "title": ""
    }
   },
   "source": [
    "Tackling Outliers"
   ]
  },
  {
   "cell_type": "code",
   "execution_count": 0,
   "metadata": {
    "application/vnd.databricks.v1+cell": {
     "cellMetadata": {
      "byteLimit": 2048000,
      "rowLimit": 10000
     },
     "inputWidgets": {},
     "nuid": "8038e5e9-d119-43b8-8028-26e0a62983a2",
     "showTitle": false,
     "title": ""
    }
   },
   "outputs": [
    {
     "output_type": "stream",
     "name": "stdout",
     "output_type": "stream",
     "text": [
      "+---------+------------+-------+\n|Member_id|Hours_Played|Game_Id|\n+---------+------------+-------+\n| 53875128|         9.8|  731.0|\n| 53875128|         0.1|  604.0|\n| 65117175|         3.3|   97.0|\n| 11373749|         7.0| 1926.0|\n| 11373749|         2.3|  148.0|\n| 56038151|         2.8|  112.0|\n|100519466|         1.6|   21.0|\n|210669058|         1.4|    1.0|\n|229467150|        24.0|    1.0|\n|111316830|         6.0| 3220.0|\n| 72842694|         1.7|  971.0|\n| 65229865|        22.0| 1342.0|\n| 65958466|         7.1|  454.0|\n| 68224834|         4.8|    9.0|\n| 34177747|         0.3|  562.0|\n|196223620|        23.0|   94.0|\n|149438233|         0.2|    2.0|\n|118894547|         0.6|  274.0|\n| 87071236|         1.7|  372.0|\n|182399789|         0.2|  191.0|\n+---------+------------+-------+\nonly showing top 20 rows\n\n"
     ]
    }
   ],
   "source": [
    "# Calculate Quantiles and Interquartile Range (IQR) for Played Games\n",
    "quantiles = played_games.approxQuantile('Hours_Played', [0.25, 0.75], 0.05)\n",
    "\n",
    "# Extract Q1 and Q3 from the quantiles\n",
    "q1 = quantiles[0]\n",
    "q3 = quantiles[1]\n",
    "\n",
    "# Calculate the Interquartile Range (IQR)\n",
    "iqr = q3 - q1\n",
    "\n",
    "# Define lower and upper bounds for outlier detection\n",
    "lower_bound = q1 - (1.5 * iqr)\n",
    "upper_bound = q3 + (1.5 * iqr)\n",
    "\n",
    "# Filter out rows outside the lower and upper bounds to remove outliers\n",
    "played_games = played_games.filter((col('Hours_Played') >= lower_bound) & (col('Hours_Played') <= upper_bound))\n",
    "\n",
    "# Display the cleaned DataFrame for Played Games\n",
    "played_games.show()"
   ]
  },
  {
   "cell_type": "markdown",
   "metadata": {
    "application/vnd.databricks.v1+cell": {
     "cellMetadata": {
      "byteLimit": 2048000,
      "rowLimit": 10000
     },
     "inputWidgets": {},
     "nuid": "1dcc8df3-e060-484b-b797-a66be0acac54",
     "showTitle": false,
     "title": ""
    }
   },
   "source": [
    "TRAINING RECOMMENDATION MODELS"
   ]
  },
  {
   "cell_type": "code",
   "execution_count": 0,
   "metadata": {
    "application/vnd.databricks.v1+cell": {
     "cellMetadata": {
      "byteLimit": 2048000,
      "rowLimit": 10000
     },
     "inputWidgets": {},
     "nuid": "63ab770c-e24c-4e12-803d-2a56911e7f40",
     "showTitle": false,
     "title": ""
    }
   },
   "outputs": [],
   "source": [
    "# Splitting the Data\n",
    "(training, test) = played_games.randomSplit([0.8, 0.2], seed=43)"
   ]
  },
  {
   "cell_type": "code",
   "execution_count": 0,
   "metadata": {
    "application/vnd.databricks.v1+cell": {
     "cellMetadata": {
      "byteLimit": 2048000,
      "rowLimit": 10000
     },
     "inputWidgets": {},
     "nuid": "3a58afc1-a1d4-464a-997e-74f79d7d8239",
     "showTitle": false,
     "title": ""
    }
   },
   "outputs": [
    {
     "output_type": "stream",
     "name": "stderr",
     "output_type": "stream",
     "text": [
      "2024/07/19 09:52:54 INFO mlflow.utils.autologging_utils: Created MLflow autologging run with ID '9ecf0416ae1c4418b4ed6f291f1d89ed', which will track hyperparameters, performance metrics, model artifacts, and lineage information for the current pyspark.ml workflow\n2024/07/19 09:52:55 WARNING mlflow.utils.autologging_utils: MLflow autologging encountered a warning: \"/databricks/python/lib/python3.11/site-packages/mlflow/types/utils.py:393: UserWarning: Hint: Inferred schema contains integer column(s). Integer columns in Python cannot represent missing values. If your input data contains missing values at inference time, it will be encoded as floats and will cause a schema enforcement error. The best way to avoid this problem is to infer the model schema based on a realistic data sample (training dataset) that includes missing values. Alternatively, you can declare integer columns as doubles (float64) whenever these columns may have missing values. See `Handling Integers With Missing Values <https://www.mlflow.org/docs/latest/models.html#handling-integers-with-missing-values>`_ for more details.\"\n2024/07/19 09:54:31 WARNING mlflow.pyspark.ml: Model ALS_b5f58732f159 will not be autologged because it is not allowlisted or or because one or more of its nested models are not allowlisted. Call mlflow.spark.log_model() to explicitly log the model, or specify a custom allowlist via the spark.mlflow.pysparkml.autolog.logModelAllowlistFile Spark conf (see mlflow.pyspark.ml.autolog docs for more info).\n"
     ]
    }
   ],
   "source": [
    "# Training the Model\n",
    "als = ALS(maxIter= 11, regParam=0.03, userCol='Member_id', itemCol='Game_Id', ratingCol='Hours_Played')\n",
    "model= als.fit(training)"
   ]
  },
  {
   "cell_type": "code",
   "execution_count": 0,
   "metadata": {
    "application/vnd.databricks.v1+cell": {
     "cellMetadata": {
      "byteLimit": 2048000,
      "rowLimit": 10000
     },
     "inputWidgets": {},
     "nuid": "d095a811-631c-43ad-aa43-06f9164cbd09",
     "showTitle": false,
     "title": ""
    }
   },
   "outputs": [
    {
     "output_type": "display_data",
     "data": {
      "text/html": [
       "<style scoped>\n",
       "  .table-result-container {\n",
       "    max-height: 300px;\n",
       "    overflow: auto;\n",
       "  }\n",
       "  table, th, td {\n",
       "    border: 1px solid black;\n",
       "    border-collapse: collapse;\n",
       "  }\n",
       "  th, td {\n",
       "    padding: 5px;\n",
       "  }\n",
       "  th {\n",
       "    text-align: left;\n",
       "  }\n",
       "</style><div class='table-result-container'><table class='table-result'><thead style='background-color: white'><tr><th>Member_id</th><th>Hours_Played</th><th>Game_Id</th><th>prediction</th></tr></thead><tbody><tr><td>5250</td><td>0.8</td><td>2</td><td>0.8626865</td></tr><tr><td>86540</td><td>3.6</td><td>65</td><td>3.5660095</td></tr><tr><td>229911</td><td>0.2</td><td>24</td><td>0.17407441</td></tr><tr><td>298950</td><td>0.3</td><td>2049</td><td>0.44893885</td></tr><tr><td>298950</td><td>0.6</td><td>211</td><td>3.0767598</td></tr></tbody></table></div>"
      ]
     },
     "metadata": {
      "application/vnd.databricks.v1+output": {
       "addedWidgets": {},
       "aggData": [],
       "aggError": "",
       "aggOverflow": false,
       "aggSchema": [],
       "aggSeriesLimitReached": false,
       "aggType": "",
       "arguments": {},
       "columnCustomDisplayInfos": {},
       "data": [
        [
         5250,
         0.8,
         2,
         0.8626865
        ],
        [
         86540,
         3.6,
         65,
         3.5660095
        ],
        [
         229911,
         0.2,
         24,
         0.17407441
        ],
        [
         298950,
         0.3,
         2049,
         0.44893885
        ],
        [
         298950,
         0.6,
         211,
         3.0767598
        ]
       ],
       "datasetInfos": [],
       "dbfsResultPath": null,
       "isJsonSchema": true,
       "metadata": {},
       "overflow": false,
       "plotOptions": {
        "customPlotOptions": {},
        "displayType": "table",
        "pivotAggregation": null,
        "pivotColumns": null,
        "xColumns": null,
        "yColumns": null
       },
       "removedWidgets": [],
       "schema": [
        {
         "metadata": "{}",
         "name": "Member_id",
         "type": "\"integer\""
        },
        {
         "metadata": "{}",
         "name": "Hours_Played",
         "type": "\"float\""
        },
        {
         "metadata": "{}",
         "name": "Game_Id",
         "type": "\"integer\""
        },
        {
         "metadata": "{}",
         "name": "prediction",
         "type": "\"float\""
        }
       ],
       "type": "table"
      }
     },
     "output_type": "display_data"
    }
   ],
   "source": [
    "# Generate Predictions on Test Dataset\n",
    "# Apply the collaborative filtering model to generate predictions on the test dataset and drop rows with missing values\n",
    "predictions = model.transform(test).dropna()\n",
    "\n",
    "# Display the DataFrame containing predictions\n",
    "display(predictions.limit(5))"
   ]
  },
  {
   "cell_type": "code",
   "execution_count": 0,
   "metadata": {
    "application/vnd.databricks.v1+cell": {
     "cellMetadata": {
      "byteLimit": 2048000,
      "rowLimit": 10000
     },
     "inputWidgets": {},
     "nuid": "0aae724f-7144-4fb5-95fd-371b43bc1b8f",
     "showTitle": false,
     "title": ""
    }
   },
   "outputs": [
    {
     "output_type": "stream",
     "name": "stdout",
     "output_type": "stream",
     "text": [
      "Root Mean Square Error:  6.321007378965163\n"
     ]
    }
   ],
   "source": [
    "# Evaluate Predictions\n",
    "# Initialize a RegressionEvaluator to calculate the Root Mean Square Error (RMSE) between actual and predicted values\n",
    "evaluator = RegressionEvaluator(metricName=\"rmse\", labelCol=\"Hours_Played\", predictionCol=\"prediction\")\n",
    "\n",
    "# Calculate the RMSE by comparing actual and predicted values in the 'predictions' DataFrame\n",
    "rmse = evaluator.evaluate(predictions)\n",
    "\n",
    "# Print the RMSE\n",
    "print(\"Root Mean Square Error: \", rmse)"
   ]
  },
  {
   "cell_type": "markdown",
   "metadata": {
    "application/vnd.databricks.v1+cell": {
     "cellMetadata": {
      "byteLimit": 2048000,
      "rowLimit": 10000
     },
     "inputWidgets": {},
     "nuid": "37f6a20e-c29f-4da0-afba-b918840032f0",
     "showTitle": false,
     "title": ""
    }
   },
   "source": [
    "Make a Purchase Recommendation for the User who has the Fewest Games Purchased and the Highest Gaming Hours."
   ]
  },
  {
   "cell_type": "code",
   "execution_count": 0,
   "metadata": {
    "application/vnd.databricks.v1+cell": {
     "cellMetadata": {
      "byteLimit": 2048000,
      "rowLimit": 10000
     },
     "inputWidgets": {},
     "nuid": "b81e785e-a0e7-4860-95f4-bfb2b8fb6b2a",
     "showTitle": false,
     "title": ""
    }
   },
   "outputs": [],
   "source": [
    "#using Sql for further information\n",
    "steam_hours = steam.filter(col('Behaviour')== 'play')\n",
    "steam_hours.createOrReplaceTempView('Steam')"
   ]
  },
  {
   "cell_type": "code",
   "execution_count": 0,
   "metadata": {
    "application/vnd.databricks.v1+cell": {
     "cellMetadata": {
      "byteLimit": 2048000,
      "implicitDf": true,
      "rowLimit": 10000
     },
     "inputWidgets": {},
     "nuid": "86eefd72-70fc-4852-8b34-b0e3edf8ff1c",
     "showTitle": false,
     "title": ""
    }
   },
   "outputs": [
    {
     "output_type": "display_data",
     "data": {
      "text/html": [
       "<style scoped>\n",
       "  .table-result-container {\n",
       "    max-height: 300px;\n",
       "    overflow: auto;\n",
       "  }\n",
       "  table, th, td {\n",
       "    border: 1px solid black;\n",
       "    border-collapse: collapse;\n",
       "  }\n",
       "  th, td {\n",
       "    padding: 5px;\n",
       "  }\n",
       "  th {\n",
       "    text-align: left;\n",
       "  }\n",
       "</style><div class='table-result-container'><table class='table-result'><thead style='background-color: white'><tr><th>Member_id</th><th>count</th><th>SumOfHoursPlayed</th></tr></thead><tbody><tr><td>121900241</td><td>7</td><td>5038.799999999999</td></tr><tr><td>42935819</td><td>7</td><td>8172.9</td></tr><tr><td>78799565</td><td>8</td><td>5186.9</td></tr><tr><td>137222368</td><td>9</td><td>4246.8</td></tr><tr><td>20207081</td><td>9</td><td>5316.4</td></tr><tr><td>42849279</td><td>9</td><td>6766.2</td></tr><tr><td>64392327</td><td>10</td><td>5301.0</td></tr><tr><td>49380630</td><td>11</td><td>5525.9</td></tr><tr><td>57905818</td><td>13</td><td>5534.8</td></tr><tr><td>40080833</td><td>13</td><td>4057.9</td></tr><tr><td>125912054</td><td>13</td><td>4923.6</td></tr><tr><td>47291376</td><td>13</td><td>4175.700000000001</td></tr><tr><td>126388107</td><td>14</td><td>4339.999999999999</td></tr><tr><td>17017968</td><td>15</td><td>7108.5</td></tr></tbody></table></div>"
      ]
     },
     "metadata": {
      "application/vnd.databricks.v1+output": {
       "addedWidgets": {},
       "aggData": [],
       "aggError": "",
       "aggOverflow": false,
       "aggSchema": [],
       "aggSeriesLimitReached": false,
       "aggType": "",
       "arguments": {},
       "columnCustomDisplayInfos": {},
       "data": [
        [
         121900241,
         7,
         5038.799999999999
        ],
        [
         42935819,
         7,
         8172.9
        ],
        [
         78799565,
         8,
         5186.9
        ],
        [
         137222368,
         9,
         4246.8
        ],
        [
         20207081,
         9,
         5316.4
        ],
        [
         42849279,
         9,
         6766.2
        ],
        [
         64392327,
         10,
         5301.0
        ],
        [
         49380630,
         11,
         5525.9
        ],
        [
         57905818,
         13,
         5534.8
        ],
        [
         40080833,
         13,
         4057.9
        ],
        [
         125912054,
         13,
         4923.6
        ],
        [
         47291376,
         13,
         4175.700000000001
        ],
        [
         126388107,
         14,
         4339.999999999999
        ],
        [
         17017968,
         15,
         7108.5
        ]
       ],
       "datasetInfos": [],
       "dbfsResultPath": null,
       "isJsonSchema": true,
       "metadata": {
        "dataframeName": "_sqldf",
        "executionCount": 70
       },
       "overflow": false,
       "plotOptions": {
        "customPlotOptions": {},
        "displayType": "table",
        "pivotAggregation": null,
        "pivotColumns": null,
        "xColumns": null,
        "yColumns": null
       },
       "removedWidgets": [],
       "schema": [
        {
         "metadata": "{}",
         "name": "Member_id",
         "type": "\"integer\""
        },
        {
         "metadata": "{}",
         "name": "count",
         "type": "\"long\""
        },
        {
         "metadata": "{}",
         "name": "SumOfHoursPlayed",
         "type": "\"double\""
        }
       ],
       "type": "table"
      }
     },
     "output_type": "display_data"
    }
   ],
   "source": [
    "%sql\n",
    "\n",
    "-- Identify Users with Potential for More Purchases\n",
    "SELECT Member_id, COUNT(Member_id) AS count, SUM(Hours_Played) AS SumOfHoursPlayed\n",
    "FROM steam\n",
    "GROUP BY Member_id\n",
    "HAVING (COUNT(Member_id) BETWEEN 7 AND 15) AND (SUM(Hours_Played) > 4000)\n",
    "ORDER BY count ASC"
   ]
  },
  {
   "cell_type": "code",
   "execution_count": 0,
   "metadata": {
    "application/vnd.databricks.v1+cell": {
     "cellMetadata": {
      "byteLimit": 2048000,
      "rowLimit": 10000
     },
     "inputWidgets": {},
     "nuid": "5efc2088-1b75-4882-8590-7d18d5a811a2",
     "showTitle": false,
     "title": ""
    }
   },
   "outputs": [],
   "source": [
    "# Generate Recommendations for All Users\n",
    "userRec = model.recommendForAllUsers(10)"
   ]
  },
  {
   "cell_type": "code",
   "execution_count": 0,
   "metadata": {
    "application/vnd.databricks.v1+cell": {
     "cellMetadata": {
      "byteLimit": 2048000,
      "rowLimit": 10000
     },
     "inputWidgets": {},
     "nuid": "510efc60-d072-4625-90ce-3a149fe5b489",
     "showTitle": false,
     "title": ""
    }
   },
   "outputs": [
    {
     "output_type": "display_data",
     "data": {
      "text/html": [
       "<style scoped>\n",
       "  .table-result-container {\n",
       "    max-height: 300px;\n",
       "    overflow: auto;\n",
       "  }\n",
       "  table, th, td {\n",
       "    border: 1px solid black;\n",
       "    border-collapse: collapse;\n",
       "  }\n",
       "  th, td {\n",
       "    padding: 5px;\n",
       "  }\n",
       "  th {\n",
       "    text-align: left;\n",
       "  }\n",
       "</style><div class='table-result-container'><table class='table-result'><thead style='background-color: white'><tr><th>Member_id</th><th>recommendations</th></tr></thead><tbody><tr><td>76767</td><td>List(List(239, 110.49102), List(568, 103.405334), List(598, 102.04291), List(812, 100.71967), List(297, 96.87427), List(273, 94.903465), List(626, 91.64597), List(1235, 90.56896), List(2627, 88.56584), List(1129, 86.881805))</td></tr><tr><td>144736</td><td>List(List(1041, 0.30621102), List(566, 0.2507793), List(260, 0.24544285), List(1096, 0.22208089), List(1102, 0.2151988), List(1176, 0.21334592), List(605, 0.20939925), List(660, 0.20883104), List(1980, 0.20592958), List(806, 0.20555407))</td></tr><tr><td>229911</td><td>List(List(235, 26.692364), List(1980, 25.068565), List(682, 22.32917), List(1545, 21.486996), List(3188, 20.853466), List(465, 20.811626), List(1192, 20.537746), List(3898, 19.684948), List(1539, 19.354696), List(1999, 18.957535))</td></tr><tr><td>948368</td><td>List(List(1041, 19.2028), List(566, 12.896865), List(712, 12.672724), List(806, 12.245248), List(260, 12.156933), List(605, 11.596186), List(531, 11.481076), List(118, 11.441738), List(539, 11.306769), List(298, 10.935608))</td></tr><tr><td>975449</td><td>List(List(328, 54.27542), List(509, 53.138332), List(256, 45.078007), List(1163, 45.04588), List(751, 42.222713), List(1608, 41.53339), List(1102, 41.38118), List(537, 40.171417), List(344, 39.152245), List(899, 39.10846))</td></tr></tbody></table></div>"
      ]
     },
     "metadata": {
      "application/vnd.databricks.v1+output": {
       "addedWidgets": {},
       "aggData": [],
       "aggError": "",
       "aggOverflow": false,
       "aggSchema": [],
       "aggSeriesLimitReached": false,
       "aggType": "",
       "arguments": {},
       "columnCustomDisplayInfos": {},
       "data": [
        [
         76767,
         [
          [
           239,
           110.49102
          ],
          [
           568,
           103.405334
          ],
          [
           598,
           102.04291
          ],
          [
           812,
           100.71967
          ],
          [
           297,
           96.87427
          ],
          [
           273,
           94.903465
          ],
          [
           626,
           91.64597
          ],
          [
           1235,
           90.56896
          ],
          [
           2627,
           88.56584
          ],
          [
           1129,
           86.881805
          ]
         ]
        ],
        [
         144736,
         [
          [
           1041,
           0.30621102
          ],
          [
           566,
           0.2507793
          ],
          [
           260,
           0.24544285
          ],
          [
           1096,
           0.22208089
          ],
          [
           1102,
           0.2151988
          ],
          [
           1176,
           0.21334592
          ],
          [
           605,
           0.20939925
          ],
          [
           660,
           0.20883104
          ],
          [
           1980,
           0.20592958
          ],
          [
           806,
           0.20555407
          ]
         ]
        ],
        [
         229911,
         [
          [
           235,
           26.692364
          ],
          [
           1980,
           25.068565
          ],
          [
           682,
           22.32917
          ],
          [
           1545,
           21.486996
          ],
          [
           3188,
           20.853466
          ],
          [
           465,
           20.811626
          ],
          [
           1192,
           20.537746
          ],
          [
           3898,
           19.684948
          ],
          [
           1539,
           19.354696
          ],
          [
           1999,
           18.957535
          ]
         ]
        ],
        [
         948368,
         [
          [
           1041,
           19.2028
          ],
          [
           566,
           12.896865
          ],
          [
           712,
           12.672724
          ],
          [
           806,
           12.245248
          ],
          [
           260,
           12.156933
          ],
          [
           605,
           11.596186
          ],
          [
           531,
           11.481076
          ],
          [
           118,
           11.441738
          ],
          [
           539,
           11.306769
          ],
          [
           298,
           10.935608
          ]
         ]
        ],
        [
         975449,
         [
          [
           328,
           54.27542
          ],
          [
           509,
           53.138332
          ],
          [
           256,
           45.078007
          ],
          [
           1163,
           45.04588
          ],
          [
           751,
           42.222713
          ],
          [
           1608,
           41.53339
          ],
          [
           1102,
           41.38118
          ],
          [
           537,
           40.171417
          ],
          [
           344,
           39.152245
          ],
          [
           899,
           39.10846
          ]
         ]
        ]
       ],
       "datasetInfos": [],
       "dbfsResultPath": null,
       "isJsonSchema": true,
       "metadata": {},
       "overflow": false,
       "plotOptions": {
        "customPlotOptions": {},
        "displayType": "table",
        "pivotAggregation": null,
        "pivotColumns": null,
        "xColumns": null,
        "yColumns": null
       },
       "removedWidgets": [],
       "schema": [
        {
         "metadata": "{}",
         "name": "Member_id",
         "type": "\"integer\""
        },
        {
         "metadata": "{}",
         "name": "recommendations",
         "type": "{\"type\":\"array\",\"elementType\":{\"type\":\"struct\",\"fields\":[{\"name\":\"Game_Id\",\"type\":\"integer\",\"nullable\":true,\"metadata\":{}},{\"name\":\"rating\",\"type\":\"float\",\"nullable\":true,\"metadata\":{}}]},\"containsNull\":true}"
        }
       ],
       "type": "table"
      }
     },
     "output_type": "display_data"
    }
   ],
   "source": [
    "#show the recommendations for users.\n",
    "display(userRec.limit(5))"
   ]
  },
  {
   "cell_type": "code",
   "execution_count": 0,
   "metadata": {
    "application/vnd.databricks.v1+cell": {
     "cellMetadata": {
      "byteLimit": 2048000,
      "rowLimit": 10000
     },
     "inputWidgets": {},
     "nuid": "6ed21d61-9833-4dde-a084-c78471889477",
     "showTitle": false,
     "title": ""
    }
   },
   "outputs": [
    {
     "output_type": "stream",
     "name": "stdout",
     "output_type": "stream",
     "text": [
      "+-------+--------+-----------------------+\n|Game_Id|rating  |NameOfGames            |\n+-------+--------+-----------------------+\n|1163   |99.23217|Rayman Legends         |\n|1997   |84.94057|Rampage Knights        |\n|1608   |72.3486 |Street Fighter IV      |\n|255    |71.66237|Football Manager 2012  |\n|619    |71.17752|Football Manager 2011  |\n|3898   |68.49272|Comanche 4             |\n|572    |68.47299|Supreme Commander      |\n|4454   |67.98691|Warrior Kings Battles  |\n|733    |67.55054|X-COM UFO Defense      |\n|2181   |65.08819|Space Empires IV Deluxe|\n+-------+--------+-----------------------+\n\n"
     ]
    }
   ],
   "source": [
    "# Display Recommendations for a Specific User\n",
    "userRec.where(userRec.Member_id == 121900241)\\\n",
    "    .select(\"recommendations\")\\\n",
    "    .withColumn(\"recommendations\", explode(\"recommendations\"))\\\n",
    "    .select(\"recommendations.Game_Id\", \"recommendations.rating\")\\\n",
    "    .join(game_identifier_generated, [\"Game_ID\"])\\\n",
    "    .show(truncate= False)"
   ]
  },
  {
   "cell_type": "code",
   "execution_count": 0,
   "metadata": {
    "application/vnd.databricks.v1+cell": {
     "cellMetadata": {
      "byteLimit": 2048000,
      "implicitDf": true,
      "rowLimit": 10000
     },
     "inputWidgets": {},
     "nuid": "eeb321a4-472f-45d3-b346-93f2979ae345",
     "showTitle": false,
     "title": ""
    }
   },
   "outputs": [
    {
     "output_type": "display_data",
     "data": {
      "text/html": [
       "<style scoped>\n",
       "  .table-result-container {\n",
       "    max-height: 300px;\n",
       "    overflow: auto;\n",
       "  }\n",
       "  table, th, td {\n",
       "    border: 1px solid black;\n",
       "    border-collapse: collapse;\n",
       "  }\n",
       "  th, td {\n",
       "    padding: 5px;\n",
       "  }\n",
       "  th {\n",
       "    text-align: left;\n",
       "  }\n",
       "</style><div class='table-result-container'><table class='table-result'><thead style='background-color: white'><tr><th>Member_id</th><th>NameOfGames</th><th>behaviour</th><th>Hours_Played</th></tr></thead><tbody><tr><td>121900241</td><td>Left 4 Dead 2</td><td>play</td><td>33.0</td></tr><tr><td>121900241</td><td>BattleBlock Theater</td><td>play</td><td>0.9</td></tr><tr><td>121900241</td><td>Counter-Strike Global Offensive</td><td>play</td><td>785.0</td></tr><tr><td>121900241</td><td>Counter-Strike</td><td>play</td><td>4217.0</td></tr><tr><td>121900241</td><td>Counter-Strike Nexon Zombies</td><td>play</td><td>0.4</td></tr><tr><td>121900241</td><td>Half-Life 2</td><td>play</td><td>2.3</td></tr><tr><td>121900241</td><td>Counter-Strike Condition Zero</td><td>play</td><td>0.2</td></tr></tbody></table></div>"
      ]
     },
     "metadata": {
      "application/vnd.databricks.v1+output": {
       "addedWidgets": {},
       "aggData": [],
       "aggError": "",
       "aggOverflow": false,
       "aggSchema": [],
       "aggSeriesLimitReached": false,
       "aggType": "",
       "arguments": {},
       "columnCustomDisplayInfos": {},
       "data": [
        [
         121900241,
         "Left 4 Dead 2",
         "play",
         33.0
        ],
        [
         121900241,
         "BattleBlock Theater",
         "play",
         0.9
        ],
        [
         121900241,
         "Counter-Strike Global Offensive",
         "play",
         785.0
        ],
        [
         121900241,
         "Counter-Strike",
         "play",
         4217.0
        ],
        [
         121900241,
         "Counter-Strike Nexon Zombies",
         "play",
         0.4
        ],
        [
         121900241,
         "Half-Life 2",
         "play",
         2.3
        ],
        [
         121900241,
         "Counter-Strike Condition Zero",
         "play",
         0.2
        ]
       ],
       "datasetInfos": [],
       "dbfsResultPath": null,
       "isJsonSchema": true,
       "metadata": {
        "dataframeName": "_sqldf",
        "executionCount": 74
       },
       "overflow": false,
       "plotOptions": {
        "customPlotOptions": {},
        "displayType": "table",
        "pivotAggregation": null,
        "pivotColumns": null,
        "xColumns": null,
        "yColumns": null
       },
       "removedWidgets": [],
       "schema": [
        {
         "metadata": "{}",
         "name": "Member_id",
         "type": "\"integer\""
        },
        {
         "metadata": "{}",
         "name": "NameOfGames",
         "type": "\"string\""
        },
        {
         "metadata": "{}",
         "name": "behaviour",
         "type": "\"string\""
        },
        {
         "metadata": "{}",
         "name": "Hours_Played",
         "type": "\"double\""
        }
       ],
       "type": "table"
      }
     },
     "output_type": "display_data"
    }
   ],
   "source": [
    "%sql\n",
    "\n",
    "-- Compare Recommended Games with User's Past Play History\n",
    "select *\n",
    "from steam\n",
    "where member_id = '121900241' "
   ]
  },
  {
   "cell_type": "markdown",
   "metadata": {
    "application/vnd.databricks.v1+cell": {
     "cellMetadata": {
      "byteLimit": 2048000,
      "rowLimit": 10000
     },
     "inputWidgets": {},
     "nuid": "0c548b3a-dd84-4bba-9f53-6f5d1c7a7c5c",
     "showTitle": false,
     "title": ""
    }
   },
   "source": [
    "Hyper Parameter Tuning"
   ]
  },
  {
   "cell_type": "code",
   "execution_count": 0,
   "metadata": {
    "application/vnd.databricks.v1+cell": {
     "cellMetadata": {
      "byteLimit": 2048000,
      "rowLimit": 10000
     },
     "inputWidgets": {},
     "nuid": "5d4dc83e-25dd-41d3-8cf0-05b311177fb7",
     "showTitle": false,
     "title": ""
    }
   },
   "outputs": [],
   "source": [
    "# Define the ALS model with parameters\n",
    "als = ALS(maxIter=5, userCol=\"Member_id\", itemCol=\"Game_Id\", ratingCol=\"Hours_Played\", coldStartStrategy=\"drop\", seed=43)\n",
    "\n",
    "# Create a parameter grid using ParamGridBuilder\n",
    "parameters = ParamGridBuilder()\\\n",
    ".addGrid(als.rank, [9, 12, 15])\\\n",
    ".addGrid(als.regParam, [0.03, 0.07, 0.1, 0.16, 0.2, 0.3])\\\n",
    ".build()"
   ]
  },
  {
   "cell_type": "code",
   "execution_count": 0,
   "metadata": {
    "application/vnd.databricks.v1+cell": {
     "cellMetadata": {
      "byteLimit": 2048000,
      "rowLimit": 10000
     },
     "inputWidgets": {},
     "nuid": "5aad8747-46ce-4acf-9116-9c217856d0b8",
     "showTitle": false,
     "title": ""
    }
   },
   "outputs": [],
   "source": [
    "# Define TrainValidationSplit for model evaluation\n",
    "tvs = TrainValidationSplit()\\\n",
    ".setSeed(43)\\\n",
    ".setTrainRatio(0.75)\\\n",
    ".setEstimatorParamMaps(parameters)\\\n",
    ".setEstimator(als)\\\n",
    ".setEvaluator(evaluator)"
   ]
  },
  {
   "cell_type": "code",
   "execution_count": 0,
   "metadata": {
    "application/vnd.databricks.v1+cell": {
     "cellMetadata": {
      "byteLimit": 2048000,
      "rowLimit": 10000
     },
     "inputWidgets": {},
     "nuid": "23fe24c1-8fd5-4356-b3e1-43f9401f6212",
     "showTitle": false,
     "title": ""
    }
   },
   "outputs": [
    {
     "output_type": "stream",
     "name": "stderr",
     "output_type": "stream",
     "text": [
      "2024/07/19 10:05:59 INFO mlflow.utils.autologging_utils: Created MLflow autologging run with ID 'd10437da3e55439ba12aeedc980e81d2', which will track hyperparameters, performance metrics, model artifacts, and lineage information for the current pyspark.ml workflow\n2024/07/19 10:30:54 WARNING mlflow.pyspark.ml: Model TrainValidationSplitModel_3d010732e8b9 will not be autologged because it is not allowlisted or or because one or more of its nested models are not allowlisted. Call mlflow.spark.log_model() to explicitly log the model, or specify a custom allowlist via the spark.mlflow.pysparkml.autolog.logModelAllowlistFile Spark conf (see mlflow.pyspark.ml.autolog docs for more info).\n"
     ]
    }
   ],
   "source": [
    "# Train the model using grid search with TrainValidationSplit\n",
    "grid_search_play_model = tvs.fit(training)"
   ]
  },
  {
   "cell_type": "code",
   "execution_count": 0,
   "metadata": {
    "application/vnd.databricks.v1+cell": {
     "cellMetadata": {
      "byteLimit": 2048000,
      "rowLimit": 10000
     },
     "inputWidgets": {},
     "nuid": "1f6fe4db-f027-4115-a73d-98ce744a7cbb",
     "showTitle": false,
     "title": ""
    }
   },
   "outputs": [
    {
     "output_type": "stream",
     "name": "stdout",
     "output_type": "stream",
     "text": [
      "Parameters for the best model:\nRank Parameter: 15\nRegParam Parameter: 0.3\n"
     ]
    }
   ],
   "source": [
    "# Select the best model and identify its parameters\n",
    "best_model = grid_search_play_model.bestModel\n",
    "\n",
    "# Print the parameters for the best model\n",
    "print(\"Parameters for the best model:\")\n",
    "print(f\"Rank Parameter: {best_model.rank}\")\n",
    "print(f\"RegParam Parameter: {best_model._java_obj.parent().getRegParam()}\")"
   ]
  },
  {
   "cell_type": "code",
   "execution_count": 0,
   "metadata": {
    "application/vnd.databricks.v1+cell": {
     "cellMetadata": {
      "byteLimit": 2048000,
      "rowLimit": 10000
     },
     "inputWidgets": {},
     "nuid": "3934d94b-2615-4d06-a40e-63fc6c007154",
     "showTitle": false,
     "title": ""
    }
   },
   "outputs": [
    {
     "output_type": "stream",
     "name": "stdout",
     "output_type": "stream",
     "text": [
      "The rsme is:  4.714960802013757\n"
     ]
    }
   ],
   "source": [
    "# Evaluate the best model on the test data\n",
    "evaluation_result = evaluator.evaluate(best_model.transform(test))\n",
    "print(f\"The rsme is: \", evaluation_result)"
   ]
  },
  {
   "cell_type": "markdown",
   "metadata": {
    "application/vnd.databricks.v1+cell": {
     "cellMetadata": {
      "byteLimit": 2048000,
      "rowLimit": 10000
     },
     "inputWidgets": {},
     "nuid": "ec1f5843-868a-4c73-8943-98169a412df1",
     "showTitle": false,
     "title": ""
    }
   },
   "source": [
    "Make Purchase Recommendation for Users"
   ]
  },
  {
   "cell_type": "code",
   "execution_count": 0,
   "metadata": {
    "application/vnd.databricks.v1+cell": {
     "cellMetadata": {
      "byteLimit": 2048000,
      "rowLimit": 10000
     },
     "inputWidgets": {},
     "nuid": "794d8433-36bc-4cf0-9ad1-2ca2c54d36eb",
     "showTitle": false,
     "title": ""
    }
   },
   "outputs": [],
   "source": [
    "# Split Data for Purchased Games into Training and Testing Sets\n",
    "# Randomly split the purchased_games DataFrame into training (80%) and testing (20%) sets\n",
    "(purchase_training, purchase_test) = purchased_games.randomSplit([0.8, 0.2], seed=43)"
   ]
  },
  {
   "cell_type": "code",
   "execution_count": 0,
   "metadata": {
    "application/vnd.databricks.v1+cell": {
     "cellMetadata": {
      "byteLimit": 2048000,
      "rowLimit": 10000
     },
     "inputWidgets": {},
     "nuid": "fa2ebff6-bf8c-4e5b-bbfd-4cff95f5aa02",
     "showTitle": false,
     "title": ""
    }
   },
   "outputs": [
    {
     "output_type": "stream",
     "name": "stderr",
     "output_type": "stream",
     "text": [
      "2024/07/19 10:31:05 INFO mlflow.utils.autologging_utils: Created MLflow autologging run with ID 'ab07066a16a54cbb96132bf4d8821305', which will track hyperparameters, performance metrics, model artifacts, and lineage information for the current pyspark.ml workflow\n2024/07/19 10:31:06 WARNING mlflow.utils.autologging_utils: MLflow autologging encountered a warning: \"/databricks/python/lib/python3.11/site-packages/mlflow/types/utils.py:393: UserWarning: Hint: Inferred schema contains integer column(s). Integer columns in Python cannot represent missing values. If your input data contains missing values at inference time, it will be encoded as floats and will cause a schema enforcement error. The best way to avoid this problem is to infer the model schema based on a realistic data sample (training dataset) that includes missing values. Alternatively, you can declare integer columns as doubles (float64) whenever these columns may have missing values. See `Handling Integers With Missing Values <https://www.mlflow.org/docs/latest/models.html#handling-integers-with-missing-values>`_ for more details.\"\n2024/07/19 10:32:22 WARNING mlflow.pyspark.ml: Model ALS_cad7c1708cd7 will not be autologged because it is not allowlisted or or because one or more of its nested models are not allowlisted. Call mlflow.spark.log_model() to explicitly log the model, or specify a custom allowlist via the spark.mlflow.pysparkml.autolog.logModelAllowlistFile Spark conf (see mlflow.pyspark.ml.autolog docs for more info).\n"
     ]
    }
   ],
   "source": [
    "# Define and Train ALS Model for Purchased Games\n",
    "# Define ALS model with specified parameters for collaborative filtering on purchased games\n",
    "Purchase_als = ALS(maxIter=10, regParam=0.05, userCol='Member_id', itemCol='Game_Id', ratingCol='Hours_Played')\n",
    "\n",
    "# Train ALS model on the training data for purchased games\n",
    "Purchase_model = Purchase_als.fit(purchase_training)"
   ]
  },
  {
   "cell_type": "code",
   "execution_count": 0,
   "metadata": {
    "application/vnd.databricks.v1+cell": {
     "cellMetadata": {
      "byteLimit": 2048000,
      "rowLimit": 10000
     },
     "inputWidgets": {},
     "nuid": "623fad08-771e-4968-bfb8-da80f449e19e",
     "showTitle": false,
     "title": ""
    }
   },
   "outputs": [
    {
     "output_type": "display_data",
     "data": {
      "text/html": [
       "<style scoped>\n",
       "  .table-result-container {\n",
       "    max-height: 300px;\n",
       "    overflow: auto;\n",
       "  }\n",
       "  table, th, td {\n",
       "    border: 1px solid black;\n",
       "    border-collapse: collapse;\n",
       "  }\n",
       "  th, td {\n",
       "    padding: 5px;\n",
       "  }\n",
       "  th {\n",
       "    text-align: left;\n",
       "  }\n",
       "</style><div class='table-result-container'><table class='table-result'><thead style='background-color: white'><tr><th>Member_id</th><th>Hours_Played</th><th>Game_Id</th><th>prediction</th></tr></thead><tbody><tr><td>5250</td><td>1</td><td>7</td><td>-0.9806007</td></tr><tr><td>76767</td><td>1</td><td>211</td><td>23.23826</td></tr><tr><td>86540</td><td>1</td><td>5</td><td>15.585196</td></tr><tr><td>86540</td><td>1</td><td>847</td><td>-0.75120294</td></tr><tr><td>86540</td><td>1</td><td>1391</td><td>-1.2856212</td></tr></tbody></table></div>"
      ]
     },
     "metadata": {
      "application/vnd.databricks.v1+output": {
       "addedWidgets": {},
       "aggData": [],
       "aggError": "",
       "aggOverflow": false,
       "aggSchema": [],
       "aggSeriesLimitReached": false,
       "aggType": "",
       "arguments": {},
       "columnCustomDisplayInfos": {},
       "data": [
        [
         5250,
         1,
         7,
         -0.9806007
        ],
        [
         76767,
         1,
         211,
         23.23826
        ],
        [
         86540,
         1,
         5,
         15.585196
        ],
        [
         86540,
         1,
         847,
         -0.75120294
        ],
        [
         86540,
         1,
         1391,
         -1.2856212
        ]
       ],
       "datasetInfos": [],
       "dbfsResultPath": null,
       "isJsonSchema": true,
       "metadata": {},
       "overflow": false,
       "plotOptions": {
        "customPlotOptions": {},
        "displayType": "table",
        "pivotAggregation": null,
        "pivotColumns": null,
        "xColumns": null,
        "yColumns": null
       },
       "removedWidgets": [],
       "schema": [
        {
         "metadata": "{}",
         "name": "Member_id",
         "type": "\"integer\""
        },
        {
         "metadata": "{}",
         "name": "Hours_Played",
         "type": "\"integer\""
        },
        {
         "metadata": "{}",
         "name": "Game_Id",
         "type": "\"integer\""
        },
        {
         "metadata": "{}",
         "name": "prediction",
         "type": "\"float\""
        }
       ],
       "type": "table"
      }
     },
     "output_type": "display_data"
    }
   ],
   "source": [
    "# make prediction on test Dataset\n",
    "Purchase_predictions = model.transform(purchase_test).dropna()\n",
    "display(Purchase_predictions.limit(5))"
   ]
  },
  {
   "cell_type": "code",
   "execution_count": 0,
   "metadata": {
    "application/vnd.databricks.v1+cell": {
     "cellMetadata": {
      "byteLimit": 2048000,
      "rowLimit": 10000
     },
     "inputWidgets": {},
     "nuid": "cff99dd2-17c6-4cb8-a692-ee47a223e145",
     "showTitle": false,
     "title": ""
    }
   },
   "outputs": [
    {
     "output_type": "stream",
     "name": "stdout",
     "output_type": "stream",
     "text": [
      "Root Mean Square Error:  0.05201548746170184\n"
     ]
    }
   ],
   "source": [
    "#Evaluate the predictions\n",
    "Purchase_predictions = Purchase_model.transform(purchase_test).dropna()\n",
    "\n",
    "Purchase_evaluator = RegressionEvaluator(metricName=\"rmse\", labelCol=\"Hours_Played\", predictionCol=\"prediction\")\n",
    "\n",
    "rmse = Purchase_evaluator.evaluate(Purchase_predictions)\n",
    "\n",
    "print(\"Root Mean Square Error: \", rmse)"
   ]
  },
  {
   "cell_type": "markdown",
   "metadata": {
    "application/vnd.databricks.v1+cell": {
     "cellMetadata": {
      "byteLimit": 2048000,
      "rowLimit": 10000
     },
     "inputWidgets": {},
     "nuid": "e39075bf-0139-48d2-816d-97bcd3dd052a",
     "showTitle": false,
     "title": ""
    }
   },
   "source": [
    "Recommend Games to Purchase for Users"
   ]
  },
  {
   "cell_type": "code",
   "execution_count": 0,
   "metadata": {
    "application/vnd.databricks.v1+cell": {
     "cellMetadata": {
      "byteLimit": 2048000,
      "rowLimit": 10000
     },
     "inputWidgets": {},
     "nuid": "6bfb38ff-299a-4adc-a44d-8399eff1d4be",
     "showTitle": false,
     "title": ""
    }
   },
   "outputs": [],
   "source": [
    "#Recommend games for a user\n",
    "Purchase_recommendation= Purchase_model.recommendForAllUsers(10)"
   ]
  },
  {
   "cell_type": "code",
   "execution_count": 0,
   "metadata": {
    "application/vnd.databricks.v1+cell": {
     "cellMetadata": {
      "byteLimit": 2048000,
      "rowLimit": 10000
     },
     "inputWidgets": {},
     "nuid": "3dff667b-df00-4731-8cf9-fb5f5d1aad8e",
     "showTitle": false,
     "title": ""
    }
   },
   "outputs": [
    {
     "output_type": "stream",
     "name": "stdout",
     "output_type": "stream",
     "text": [
      "+-------+----------+----------------------------------+\n|Game_Id|rating    |NameOfGames                       |\n+-------+----------+----------------------------------+\n|3596   |0.9578545 |Pro Cycling Manager Season 2009   |\n|2006   |0.9558228 |Star Trek D-A-C                   |\n|2752   |0.9558252 |Pro Evolution Soccer 2016         |\n|1488   |0.961683  |GEARCRACK Arena                   |\n|3339   |0.9611796 |Warhammer Online Age of Reckoning |\n|1350   |0.9559019 |Pro Evolution Soccer 2015         |\n|1453   |0.96214527|NBA 2K9                           |\n|2575   |0.9562943 |Shadow Harvest Phantom Ops        |\n|3510   |0.9579508 |Good Ol Times                     |\n|3375   |0.96069044|Age of Conan Rise of the Godslayer|\n+-------+----------+----------------------------------+\n\n"
     ]
    }
   ],
   "source": [
    "Purchase_recommendation.where(Purchase_recommendation.Member_id == 121900241)\\\n",
    "    .select(\"recommendations\")\\\n",
    "    .withColumn(\"recommendations\", explode(\"recommendations\"))\\\n",
    "    .select(\"recommendations.Game_Id\", \"recommendations.rating\")\\\n",
    "    .join(game_identifier_generated, [\"Game_ID\"])\\\n",
    "    .show(truncate= False)"
   ]
  },
  {
   "cell_type": "code",
   "execution_count": 0,
   "metadata": {
    "application/vnd.databricks.v1+cell": {
     "cellMetadata": {
      "byteLimit": 2048000,
      "rowLimit": 10000
     },
     "inputWidgets": {},
     "nuid": "368c06ae-4761-4dec-81e2-957b93bf7265",
     "showTitle": false,
     "title": ""
    }
   },
   "outputs": [],
   "source": []
  }
 ],
 "metadata": {
  "application/vnd.databricks.v1+notebook": {
   "dashboards": [],
   "environmentMetadata": null,
   "language": "python",
   "notebookMetadata": {
    "mostRecentlyExecutedCommandWithImplicitDF": {
     "commandId": 1817902045968208,
     "dataframes": [
      "_sqldf"
     ]
    },
    "pythonIndentUnit": 4
   },
   "notebookName": "Olaoluwa_Olukoya_ml",
   "widgets": {}
  }
 },
 "nbformat": 4,
 "nbformat_minor": 0
}
